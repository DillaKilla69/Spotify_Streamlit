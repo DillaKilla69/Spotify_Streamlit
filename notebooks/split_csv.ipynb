{
 "cells": [
  {
   "cell_type": "code",
   "execution_count": 4,
   "metadata": {},
   "outputs": [],
   "source": [
    "csv = r'C:\\Users\\donju\\OneDrive\\Desktop\\Data_Stuff\\Streamlit_Training\\data\\US_Accidents_March23.csv'"
   ]
  },
  {
   "cell_type": "code",
   "execution_count": 5,
   "metadata": {},
   "outputs": [
    {
     "name": "stdout",
     "output_type": "stream",
     "text": [
      "CSV split into 3 smaller files.\n"
     ]
    }
   ],
   "source": [
    "import pandas as pd\n",
    "import numpy as np\n",
    "\n",
    "def split_csv(input_csv, n):\n",
    "    # Read the CSV file into a pandas DataFrame\n",
    "    df = pd.read_csv(input_csv)\n",
    "\n",
    "    # Calculate the size of each split\n",
    "    split_size = len(df) // n\n",
    "    remainder = len(df) % n\n",
    "\n",
    "    # Create and save n smaller CSV files\n",
    "    start_idx = 0\n",
    "    for i in range(n):\n",
    "        # Calculate end index for the current split\n",
    "        end_idx = start_idx + split_size + (1 if i < remainder else 0)\n",
    "\n",
    "        # Create a new DataFrame for this split\n",
    "        df_split = df.iloc[start_idx:end_idx]\n",
    "\n",
    "        # Save the smaller DataFrame to a new CSV file\n",
    "        df_split.to_csv(f\"split_{i+1}.csv\", index=False)\n",
    "\n",
    "        # Update the start index for the next split\n",
    "        start_idx = end_idx\n",
    "\n",
    "    print(f\"CSV split into {n} smaller files.\")\n",
    "\n",
    "# Example usage\n",
    "split_csv(csv, 3)\n"
   ]
  },
  {
   "cell_type": "code",
   "execution_count": null,
   "metadata": {},
   "outputs": [],
   "source": []
  }
 ],
 "metadata": {
  "kernelspec": {
   "display_name": ".venv",
   "language": "python",
   "name": "python3"
  },
  "language_info": {
   "codemirror_mode": {
    "name": "ipython",
    "version": 3
   },
   "file_extension": ".py",
   "mimetype": "text/x-python",
   "name": "python",
   "nbconvert_exporter": "python",
   "pygments_lexer": "ipython3",
   "version": "3.10.6"
  }
 },
 "nbformat": 4,
 "nbformat_minor": 2
}
