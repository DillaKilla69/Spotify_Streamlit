{
 "cells": [
  {
   "cell_type": "code",
   "execution_count": 1,
   "metadata": {},
   "outputs": [],
   "source": [
    "import pandas as pd\n",
    "from modules.creds import *\n",
    "from modules.search import *\n",
    "import streamlit as st\n",
    "\n",
    "client_id = 'e18a33b810214ef997ebd806aaf48f0e'\n",
    "client_secret = 'a69ff972d459452987b5d7094d923eaf'\n",
    "artist_name = 'radiohead'"
   ]
  },
  {
   "cell_type": "code",
   "execution_count": 2,
   "metadata": {},
   "outputs": [
    {
     "data": {
      "text/plain": [
       "<spotipy.client.Spotify at 0x1f204a2eb30>"
      ]
     },
     "execution_count": 2,
     "metadata": {},
     "output_type": "execute_result"
    }
   ],
   "source": [
    "def create_sp_session(client_id, client_secret):\n",
    "    sp = spotipy.Spotify(client_credentials_manager=SpotifyClientCredentials(\n",
    "    client_id=client_id,\n",
    "    client_secret=client_secret\n",
    "    ))\n",
    "    return True, sp\n",
    "\n",
    "\n",
    "\n",
    "sp = create_sp_session(client_id, client_secret)[1]\n",
    "sp"
   ]
  },
  {
   "cell_type": "code",
   "execution_count": 4,
   "metadata": {},
   "outputs": [
    {
     "name": "stderr",
     "output_type": "stream",
     "text": [
      "2024-11-05 15:40:19.443 WARNING streamlit.runtime.scriptrunner_utils.script_run_context: Thread 'MainThread': missing ScriptRunContext! This warning can be ignored when running in bare mode.\n",
      "2024-11-05 15:40:19.444 WARNING streamlit.runtime.state.session_state_proxy: Session state does not function when running a script without `streamlit run`\n",
      "2024-11-05 15:40:19.445 WARNING streamlit.runtime.scriptrunner_utils.script_run_context: Thread 'MainThread': missing ScriptRunContext! This warning can be ignored when running in bare mode.\n",
      "2024-11-05 15:40:19.619 WARNING streamlit.runtime.scriptrunner_utils.script_run_context: Thread 'MainThread': missing ScriptRunContext! This warning can be ignored when running in bare mode.\n",
      "2024-11-05 15:40:19.791 WARNING streamlit.runtime.scriptrunner_utils.script_run_context: Thread 'MainThread': missing ScriptRunContext! This warning can be ignored when running in bare mode.\n",
      "2024-11-05 15:40:19.970 WARNING streamlit.runtime.scriptrunner_utils.script_run_context: Thread 'MainThread': missing ScriptRunContext! This warning can be ignored when running in bare mode.\n",
      "2024-11-05 15:40:19.972 WARNING streamlit.runtime.scriptrunner_utils.script_run_context: Thread 'MainThread': missing ScriptRunContext! This warning can be ignored when running in bare mode.\n"
     ]
    },
    {
     "data": {
      "text/plain": [
       "[{'name': 'Creep',\n",
       "  'artist': 'Radiohead',\n",
       "  'features': {'danceability': 0.515,\n",
       "   'energy': 0.43,\n",
       "   'key': 7,\n",
       "   'loudness': -9.935,\n",
       "   'mode': 1,\n",
       "   'speechiness': 0.0372,\n",
       "   'acousticness': 0.0097,\n",
       "   'instrumentalness': 0.000133,\n",
       "   'liveness': 0.129,\n",
       "   'valence': 0.104,\n",
       "   'tempo': 91.844,\n",
       "   'type': 'audio_features',\n",
       "   'id': '70LcF31zb1H0PyJoS1Sx1r',\n",
       "   'uri': 'spotify:track:70LcF31zb1H0PyJoS1Sx1r',\n",
       "   'track_href': 'https://api.spotify.com/v1/tracks/70LcF31zb1H0PyJoS1Sx1r',\n",
       "   'analysis_url': 'https://api.spotify.com/v1/audio-analysis/70LcF31zb1H0PyJoS1Sx1r',\n",
       "   'duration_ms': 238640,\n",
       "   'time_signature': 4}},\n",
       " {'name': 'No Surprises',\n",
       "  'artist': 'Radiohead',\n",
       "  'features': {'danceability': 0.255,\n",
       "   'energy': 0.393,\n",
       "   'key': 5,\n",
       "   'loudness': -10.654,\n",
       "   'mode': 1,\n",
       "   'speechiness': 0.0278,\n",
       "   'acousticness': 0.0577,\n",
       "   'instrumentalness': 0.00361,\n",
       "   'liveness': 0.113,\n",
       "   'valence': 0.118,\n",
       "   'tempo': 76.426,\n",
       "   'type': 'audio_features',\n",
       "   'id': '10nyNJ6zNy2YVYLrcwLccB',\n",
       "   'uri': 'spotify:track:10nyNJ6zNy2YVYLrcwLccB',\n",
       "   'track_href': 'https://api.spotify.com/v1/tracks/10nyNJ6zNy2YVYLrcwLccB',\n",
       "   'analysis_url': 'https://api.spotify.com/v1/audio-analysis/10nyNJ6zNy2YVYLrcwLccB',\n",
       "   'duration_ms': 229120,\n",
       "   'time_signature': 4}},\n",
       " {'name': 'Karma Police',\n",
       "  'artist': 'Radiohead',\n",
       "  'features': {'danceability': 0.36,\n",
       "   'energy': 0.501,\n",
       "   'key': 7,\n",
       "   'loudness': -9.129,\n",
       "   'mode': 1,\n",
       "   'speechiness': 0.0258,\n",
       "   'acousticness': 0.0638,\n",
       "   'instrumentalness': 9.32e-05,\n",
       "   'liveness': 0.172,\n",
       "   'valence': 0.324,\n",
       "   'tempo': 74.807,\n",
       "   'type': 'audio_features',\n",
       "   'id': '63OQupATfueTdZMWTxW03A',\n",
       "   'uri': 'spotify:track:63OQupATfueTdZMWTxW03A',\n",
       "   'track_href': 'https://api.spotify.com/v1/tracks/63OQupATfueTdZMWTxW03A',\n",
       "   'analysis_url': 'https://api.spotify.com/v1/audio-analysis/63OQupATfueTdZMWTxW03A',\n",
       "   'duration_ms': 264067,\n",
       "   'time_signature': 4}}]"
      ]
     },
     "execution_count": 4,
     "metadata": {},
     "output_type": "execute_result"
    }
   ],
   "source": [
    "from modules.search import get_artist_top_tracks\n",
    "\n",
    "tracks = get_artist_top_tracks(sp, 'Radiohead')\n",
    "\n",
    "tracks"
   ]
  },
  {
   "cell_type": "code",
   "execution_count": null,
   "metadata": {},
   "outputs": [],
   "source": [
    "def get_album_id(df):\n",
    "    df['']"
   ]
  },
  {
   "cell_type": "code",
   "execution_count": 5,
   "metadata": {},
   "outputs": [
    {
     "data": {
      "text/html": [
       "<div>\n",
       "<style scoped>\n",
       "    .dataframe tbody tr th:only-of-type {\n",
       "        vertical-align: middle;\n",
       "    }\n",
       "\n",
       "    .dataframe tbody tr th {\n",
       "        vertical-align: top;\n",
       "    }\n",
       "\n",
       "    .dataframe thead th {\n",
       "        text-align: right;\n",
       "    }\n",
       "</style>\n",
       "<table border=\"1\" class=\"dataframe\">\n",
       "  <thead>\n",
       "    <tr style=\"text-align: right;\">\n",
       "      <th></th>\n",
       "      <th>name</th>\n",
       "      <th>artist</th>\n",
       "      <th>features.danceability</th>\n",
       "      <th>features.energy</th>\n",
       "      <th>features.key</th>\n",
       "      <th>features.loudness</th>\n",
       "      <th>features.mode</th>\n",
       "      <th>features.speechiness</th>\n",
       "      <th>features.acousticness</th>\n",
       "      <th>features.instrumentalness</th>\n",
       "      <th>features.liveness</th>\n",
       "      <th>features.valence</th>\n",
       "      <th>features.tempo</th>\n",
       "      <th>features.type</th>\n",
       "      <th>features.id</th>\n",
       "      <th>features.uri</th>\n",
       "      <th>features.track_href</th>\n",
       "      <th>features.analysis_url</th>\n",
       "      <th>features.duration_ms</th>\n",
       "      <th>features.time_signature</th>\n",
       "    </tr>\n",
       "  </thead>\n",
       "  <tbody>\n",
       "    <tr>\n",
       "      <th>0</th>\n",
       "      <td>Creep</td>\n",
       "      <td>Radiohead</td>\n",
       "      <td>0.515</td>\n",
       "      <td>0.430</td>\n",
       "      <td>7</td>\n",
       "      <td>-9.935</td>\n",
       "      <td>1</td>\n",
       "      <td>0.0372</td>\n",
       "      <td>0.0097</td>\n",
       "      <td>0.000133</td>\n",
       "      <td>0.129</td>\n",
       "      <td>0.104</td>\n",
       "      <td>91.844</td>\n",
       "      <td>audio_features</td>\n",
       "      <td>70LcF31zb1H0PyJoS1Sx1r</td>\n",
       "      <td>spotify:track:70LcF31zb1H0PyJoS1Sx1r</td>\n",
       "      <td>https://api.spotify.com/v1/tracks/70LcF31zb1H0...</td>\n",
       "      <td>https://api.spotify.com/v1/audio-analysis/70Lc...</td>\n",
       "      <td>238640</td>\n",
       "      <td>4</td>\n",
       "    </tr>\n",
       "    <tr>\n",
       "      <th>1</th>\n",
       "      <td>No Surprises</td>\n",
       "      <td>Radiohead</td>\n",
       "      <td>0.255</td>\n",
       "      <td>0.393</td>\n",
       "      <td>5</td>\n",
       "      <td>-10.654</td>\n",
       "      <td>1</td>\n",
       "      <td>0.0278</td>\n",
       "      <td>0.0577</td>\n",
       "      <td>0.003610</td>\n",
       "      <td>0.113</td>\n",
       "      <td>0.118</td>\n",
       "      <td>76.426</td>\n",
       "      <td>audio_features</td>\n",
       "      <td>10nyNJ6zNy2YVYLrcwLccB</td>\n",
       "      <td>spotify:track:10nyNJ6zNy2YVYLrcwLccB</td>\n",
       "      <td>https://api.spotify.com/v1/tracks/10nyNJ6zNy2Y...</td>\n",
       "      <td>https://api.spotify.com/v1/audio-analysis/10ny...</td>\n",
       "      <td>229120</td>\n",
       "      <td>4</td>\n",
       "    </tr>\n",
       "    <tr>\n",
       "      <th>2</th>\n",
       "      <td>Karma Police</td>\n",
       "      <td>Radiohead</td>\n",
       "      <td>0.360</td>\n",
       "      <td>0.501</td>\n",
       "      <td>7</td>\n",
       "      <td>-9.129</td>\n",
       "      <td>1</td>\n",
       "      <td>0.0258</td>\n",
       "      <td>0.0638</td>\n",
       "      <td>0.000093</td>\n",
       "      <td>0.172</td>\n",
       "      <td>0.324</td>\n",
       "      <td>74.807</td>\n",
       "      <td>audio_features</td>\n",
       "      <td>63OQupATfueTdZMWTxW03A</td>\n",
       "      <td>spotify:track:63OQupATfueTdZMWTxW03A</td>\n",
       "      <td>https://api.spotify.com/v1/tracks/63OQupATfueT...</td>\n",
       "      <td>https://api.spotify.com/v1/audio-analysis/63OQ...</td>\n",
       "      <td>264067</td>\n",
       "      <td>4</td>\n",
       "    </tr>\n",
       "  </tbody>\n",
       "</table>\n",
       "</div>"
      ],
      "text/plain": [
       "           name     artist  features.danceability  features.energy  \\\n",
       "0         Creep  Radiohead                  0.515            0.430   \n",
       "1  No Surprises  Radiohead                  0.255            0.393   \n",
       "2  Karma Police  Radiohead                  0.360            0.501   \n",
       "\n",
       "   features.key  features.loudness  features.mode  features.speechiness  \\\n",
       "0             7             -9.935              1                0.0372   \n",
       "1             5            -10.654              1                0.0278   \n",
       "2             7             -9.129              1                0.0258   \n",
       "\n",
       "   features.acousticness  features.instrumentalness  features.liveness  \\\n",
       "0                 0.0097                   0.000133              0.129   \n",
       "1                 0.0577                   0.003610              0.113   \n",
       "2                 0.0638                   0.000093              0.172   \n",
       "\n",
       "   features.valence  features.tempo   features.type             features.id  \\\n",
       "0             0.104          91.844  audio_features  70LcF31zb1H0PyJoS1Sx1r   \n",
       "1             0.118          76.426  audio_features  10nyNJ6zNy2YVYLrcwLccB   \n",
       "2             0.324          74.807  audio_features  63OQupATfueTdZMWTxW03A   \n",
       "\n",
       "                           features.uri  \\\n",
       "0  spotify:track:70LcF31zb1H0PyJoS1Sx1r   \n",
       "1  spotify:track:10nyNJ6zNy2YVYLrcwLccB   \n",
       "2  spotify:track:63OQupATfueTdZMWTxW03A   \n",
       "\n",
       "                                 features.track_href  \\\n",
       "0  https://api.spotify.com/v1/tracks/70LcF31zb1H0...   \n",
       "1  https://api.spotify.com/v1/tracks/10nyNJ6zNy2Y...   \n",
       "2  https://api.spotify.com/v1/tracks/63OQupATfueT...   \n",
       "\n",
       "                               features.analysis_url  features.duration_ms  \\\n",
       "0  https://api.spotify.com/v1/audio-analysis/70Lc...                238640   \n",
       "1  https://api.spotify.com/v1/audio-analysis/10ny...                229120   \n",
       "2  https://api.spotify.com/v1/audio-analysis/63OQ...                264067   \n",
       "\n",
       "   features.time_signature  \n",
       "0                        4  \n",
       "1                        4  \n",
       "2                        4  "
      ]
     },
     "execution_count": 5,
     "metadata": {},
     "output_type": "execute_result"
    }
   ],
   "source": [
    "df = pd.json_normalize(tracks)\n",
    "df"
   ]
  },
  {
   "cell_type": "code",
   "execution_count": null,
   "metadata": {},
   "outputs": [],
   "source": [
    "%matplotlib inline\n",
    "import matplotlib.pyplot as plt\n",
    "import seaborn as sns\n",
    "\n",
    "plt.figure(figsize=(10, 6))\n",
    "sns.barplot(x='name', y='features.danceability', hue='name', data=df)\n",
    "plt.title('Danceability Comparison')\n"
   ]
  },
  {
   "cell_type": "code",
   "execution_count": null,
   "metadata": {},
   "outputs": [],
   "source": [
    "# def get_artist_top_tracks(artist_name):\n",
    "#     # Set up Spotify client credentials manager\n",
    "#     sp = spotipy.Spotify(client_credentials_manager=SpotifyClientCredentials(\n",
    "#         client_id=client_id,\n",
    "#         client_secret=client_secret\n",
    "#     ))\n",
    "\n",
    "#     # Search for the artist\n",
    "#     results = sp.search(q=f'artist:{artist_name}', type='artist')\n",
    "#     artist = results['artists']['items'][0]\n",
    "\n",
    "#     # Get top tracks\n",
    "#     top_tracks = sp.artist_top_tracks(artist['id'])\n",
    "\n",
    "#     return top_tracks"
   ]
  },
  {
   "cell_type": "code",
   "execution_count": null,
   "metadata": {},
   "outputs": [],
   "source": [
    "# data = get_artist_top_tracks(session, artist_name, limit=2)\n",
    "# data"
   ]
  },
  {
   "cell_type": "code",
   "execution_count": null,
   "metadata": {},
   "outputs": [],
   "source": [
    "# def validate_session(data):\n",
    "#     if data:\n",
    "#         print(\"valid user session\")\n",
    "#     else:\n",
    "#         print(\"not a valid session\")\n",
    "\n",
    "# validate_session(data)"
   ]
  },
  {
   "cell_type": "code",
   "execution_count": null,
   "metadata": {},
   "outputs": [],
   "source": [
    "# st.session_state[\"login\"] = \"logIn\"\n",
    "# print(st.session_state[\"login\"])"
   ]
  },
  {
   "cell_type": "code",
   "execution_count": null,
   "metadata": {},
   "outputs": [],
   "source": [
    "# import pandas as pd\n",
    "# import numpy as np\n",
    "# import matplotlib\n",
    "# matplotlib.use('TkAgg')  # or 'Qt5Agg' if you prefer Qt\n",
    "# import matplotlib.pyplot as plt\n",
    "\n",
    "# # Flatten the JSON and convert to DataFrame\n",
    "# flattened_df = pd.DataFrame(trac['features'].apply(pd.Series))\n",
    "# flattened_df\n"
   ]
  },
  {
   "cell_type": "code",
   "execution_count": null,
   "metadata": {},
   "outputs": [],
   "source": [
    "import numpy as np\n",
    "\n",
    "# Filter numeric columns\n",
    "numeric_columns = df.select_dtypes(include=[np.number]).columns\n",
    "filtered_df = df[numeric_columns]\n",
    "filtered_df"
   ]
  },
  {
   "cell_type": "code",
   "execution_count": null,
   "metadata": {},
   "outputs": [],
   "source": [
    "filtered_df"
   ]
  },
  {
   "cell_type": "code",
   "execution_count": null,
   "metadata": {},
   "outputs": [],
   "source": [
    "def flatten_features(data):\n",
    "    def flatten_inner(inner_dict):\n",
    "        return {k.replace('features.', ''): v for k, v in inner_dict.items()}\n",
    "    \n",
    "    return [{**item, **flatten_inner(item['features'])} for item in data]\n",
    "\n",
    "# Example usage\n",
    "original_data = [{'name': 'Creep', 'artist': 'Radiohead', 'features': {...}}]\n",
    "flattened_data = flatten_features(original_data)\n",
    "\n",
    "print(flattened_data)"
   ]
  },
  {
   "cell_type": "code",
   "execution_count": null,
   "metadata": {},
   "outputs": [],
   "source": [
    "normalized_df =  filtered_df[['danceability', 'energy', 'key', 'loudness', 'mode', 'speechiness',\n",
    "        'acousticness', 'instrumentalness', 'liveness', 'valence', 'tempo']] / filtered_df[['danceability', 'energy', 'key', 'loudness', 'mode', 'speechiness',\n",
    "        'acousticness', 'instrumentalness', 'liveness', 'valence', 'tempo']].max()\n",
    "\n",
    "normalized_df"
   ]
  },
  {
   "cell_type": "code",
   "execution_count": null,
   "metadata": {},
   "outputs": [],
   "source": [
    "# Or using merge()\n",
    "result = df.merge(normalized_df, left_index=True, right_index=True)\n",
    "result.drop('features', axis=1, inplace=True)\n",
    "result"
   ]
  },
  {
   "cell_type": "code",
   "execution_count": null,
   "metadata": {},
   "outputs": [],
   "source": [
    "import pandas as pd\n",
    "import plotly.express as px\n",
    "\n",
    "# Assuming your DataFrame is named 'df'\n",
    "\n",
    "# Select relevant columns\n",
    "selected_columns = ['danceability', 'energy', 'loudness', 'speechiness', 'acousticness',\n",
    "                    'instrumentalness', 'liveness', 'valence', 'tempo']\n",
    "\n",
    "# Create the radar chart\n",
    "fig = px.line_polar(result[selected_columns], r=df['energy'], theta=result[selected_columns],\n",
    "                    line_close=True, title='Musical Characteristics Radar Chart')\n",
    "\n",
    "# # Customize the chart appearance\n",
    "# fig.update_layout(\n",
    "#     polar=dict(\n",
    "#         radialaxis=dict(range=[0, max(df['energy'])], ticksuffix='', tickformat=',.0f')),\n",
    "#         angularaxis=dict(tickangle=-30)\n",
    "#     )\n",
    "\n",
    "\n",
    "# # Add labels\n",
    "# fig.update_xaxes(showticklabels=True, tickangle=45)\n",
    "# fig.update_yaxes(showticklabels=True)\n",
    "\n",
    "# # Show the chart\n",
    "# fig.show()\n"
   ]
  },
  {
   "cell_type": "code",
   "execution_count": null,
   "metadata": {},
   "outputs": [],
   "source": [
    "track = sp.track('70LcF31zb1H0PyJoS1Sx1r')\n",
    "\n",
    "track = pd.json_normalize(track)\n",
    "track"
   ]
  },
  {
   "cell_type": "code",
   "execution_count": null,
   "metadata": {},
   "outputs": [],
   "source": [
    "countries = track[\"available_markets\"].explode(ignore_index = False)\n",
    "countries = countries.to_frame()\n",
    "countries['is_present'] = 1\n",
    "\n",
    "#  Group by 'country' and sum 'is_present' to get counts\n",
    "country_counts = countries.groupby('available_markets')['is_present'].sum().reset_index()\n",
    "country_counts"
   ]
  },
  {
   "cell_type": "code",
   "execution_count": null,
   "metadata": {},
   "outputs": [],
   "source": [
    "import geopandas as gpd\n",
    "countries_path = r'custom.geo.json'\n",
    "gdf = gpd.read_file(countries_path)\n",
    "gdf"
   ]
  },
  {
   "cell_type": "code",
   "execution_count": null,
   "metadata": {},
   "outputs": [],
   "source": [
    "iso_3 = gdf['sov_a3']\n",
    "iso_3"
   ]
  },
  {
   "cell_type": "code",
   "execution_count": null,
   "metadata": {},
   "outputs": [],
   "source": [
    "import pycountry\n",
    "\n",
    "# Function to convert ISO-2 to ISO-3 using pycountry\n",
    "def iso2_to_iso3(iso2_code):\n",
    "    try:\n",
    "        # pycountry.countries.get() returns None if the country is not found\n",
    "        return pycountry.countries.get(alpha_2=iso2_code).alpha_3\n",
    "    except AttributeError:\n",
    "        # If the country is not found, return None or handle as needed\n",
    "        return None\n",
    "\n",
    "# Apply the function to the 'country' column\n",
    "country_counts['country_iso_3'] = country_counts['available_markets'].apply(iso2_to_iso3)"
   ]
  },
  {
   "cell_type": "code",
   "execution_count": null,
   "metadata": {},
   "outputs": [],
   "source": [
    "country_counts.drop('available_markets', axis=1)"
   ]
  },
  {
   "cell_type": "code",
   "execution_count": null,
   "metadata": {},
   "outputs": [],
   "source": [
    "import plotly_express as px\n",
    "# Create the choropleth map\n",
    "fig = px.choropleth(\n",
    "    data_frame=country_counts,\n",
    "    locations=\"country_iso_3\",  \n",
    "    locationmode='ISO-3',  \n",
    "    color=\"is_present\",\n",
    "    color_continuous_scale=\"Greens\",\n",
    "    hover_name=\"available_markets\",\n",
    "    title=\"Countries Present in Dataset\"\n",
    ")\n",
    "\n",
    "fig.show()"
   ]
  },
  {
   "cell_type": "code",
   "execution_count": null,
   "metadata": {},
   "outputs": [],
   "source": []
  }
 ],
 "metadata": {
  "kernelspec": {
   "display_name": ".venv",
   "language": "python",
   "name": "python3"
  },
  "language_info": {
   "codemirror_mode": {
    "name": "ipython",
    "version": 3
   },
   "file_extension": ".py",
   "mimetype": "text/x-python",
   "name": "python",
   "nbconvert_exporter": "python",
   "pygments_lexer": "ipython3",
   "version": "3.10.6"
  }
 },
 "nbformat": 4,
 "nbformat_minor": 2
}
