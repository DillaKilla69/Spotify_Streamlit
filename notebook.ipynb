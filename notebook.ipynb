{
 "cells": [
  {
   "cell_type": "code",
   "execution_count": 8,
   "metadata": {},
   "outputs": [],
   "source": [
    "import pandas as pd\n",
    "from modules.creds import *\n",
    "from modules.search import *\n",
    "import streamlit as st\n",
    "\n",
    "client_id = 'e18a33b810214ef997ebd806aaf48f0e'\n",
    "client_secret = 'a69ff972d459452987b5d7094d923eaf'\n",
    "artist_name = 'radiohead'"
   ]
  },
  {
   "cell_type": "code",
   "execution_count": 9,
   "metadata": {},
   "outputs": [
    {
     "data": {
      "text/plain": [
       "<spotipy.client.Spotify at 0x2940e8d4580>"
      ]
     },
     "execution_count": 9,
     "metadata": {},
     "output_type": "execute_result"
    }
   ],
   "source": [
    "def create_sp_session(client_id, client_secret):\n",
    "    sp = spotipy.Spotify(client_credentials_manager=SpotifyClientCredentials(\n",
    "    client_id=client_id,\n",
    "    client_secret=client_secret\n",
    "    ))\n",
    "    return True, sp\n",
    "\n",
    "\n",
    "\n",
    "sp = create_sp_session(client_id, client_secret)[1]\n",
    "sp"
   ]
  },
  {
   "cell_type": "code",
   "execution_count": 10,
   "metadata": {},
   "outputs": [
    {
     "data": {
      "text/plain": [
       "[{'name': 'Creep',\n",
       "  'artist': 'Radiohead',\n",
       "  'features': {'danceability': 0.515,\n",
       "   'energy': 0.43,\n",
       "   'key': 7,\n",
       "   'loudness': -9.935,\n",
       "   'mode': 1,\n",
       "   'speechiness': 0.0372,\n",
       "   'acousticness': 0.0097,\n",
       "   'instrumentalness': 0.000133,\n",
       "   'liveness': 0.129,\n",
       "   'valence': 0.104,\n",
       "   'tempo': 91.844,\n",
       "   'type': 'audio_features',\n",
       "   'id': '70LcF31zb1H0PyJoS1Sx1r',\n",
       "   'uri': 'spotify:track:70LcF31zb1H0PyJoS1Sx1r',\n",
       "   'track_href': 'https://api.spotify.com/v1/tracks/70LcF31zb1H0PyJoS1Sx1r',\n",
       "   'analysis_url': 'https://api.spotify.com/v1/audio-analysis/70LcF31zb1H0PyJoS1Sx1r',\n",
       "   'duration_ms': 238640,\n",
       "   'time_signature': 4}},\n",
       " {'name': 'No Surprises',\n",
       "  'artist': 'Radiohead',\n",
       "  'features': {'danceability': 0.255,\n",
       "   'energy': 0.393,\n",
       "   'key': 5,\n",
       "   'loudness': -10.654,\n",
       "   'mode': 1,\n",
       "   'speechiness': 0.0278,\n",
       "   'acousticness': 0.0577,\n",
       "   'instrumentalness': 0.00361,\n",
       "   'liveness': 0.113,\n",
       "   'valence': 0.118,\n",
       "   'tempo': 76.426,\n",
       "   'type': 'audio_features',\n",
       "   'id': '10nyNJ6zNy2YVYLrcwLccB',\n",
       "   'uri': 'spotify:track:10nyNJ6zNy2YVYLrcwLccB',\n",
       "   'track_href': 'https://api.spotify.com/v1/tracks/10nyNJ6zNy2YVYLrcwLccB',\n",
       "   'analysis_url': 'https://api.spotify.com/v1/audio-analysis/10nyNJ6zNy2YVYLrcwLccB',\n",
       "   'duration_ms': 229120,\n",
       "   'time_signature': 4}},\n",
       " {'name': 'Karma Police',\n",
       "  'artist': 'Radiohead',\n",
       "  'features': {'danceability': 0.36,\n",
       "   'energy': 0.501,\n",
       "   'key': 7,\n",
       "   'loudness': -9.129,\n",
       "   'mode': 1,\n",
       "   'speechiness': 0.0258,\n",
       "   'acousticness': 0.0638,\n",
       "   'instrumentalness': 9.32e-05,\n",
       "   'liveness': 0.172,\n",
       "   'valence': 0.324,\n",
       "   'tempo': 74.807,\n",
       "   'type': 'audio_features',\n",
       "   'id': '63OQupATfueTdZMWTxW03A',\n",
       "   'uri': 'spotify:track:63OQupATfueTdZMWTxW03A',\n",
       "   'track_href': 'https://api.spotify.com/v1/tracks/63OQupATfueTdZMWTxW03A',\n",
       "   'analysis_url': 'https://api.spotify.com/v1/audio-analysis/63OQupATfueTdZMWTxW03A',\n",
       "   'duration_ms': 264067,\n",
       "   'time_signature': 4}}]"
      ]
     },
     "execution_count": 10,
     "metadata": {},
     "output_type": "execute_result"
    }
   ],
   "source": [
    "from modules.search import get_artist_top_tracks, test_response\n",
    "\n",
    "tracks = get_artist_top_tracks(sp, 'Radiohead')\n",
    "\n",
    "tracks"
   ]
  },
  {
   "cell_type": "code",
   "execution_count": null,
   "metadata": {},
   "outputs": [],
   "source": [
    "def get_album_id(df):\n",
    "    df['']"
   ]
  },
  {
   "cell_type": "code",
   "execution_count": 12,
   "metadata": {},
   "outputs": [
    {
     "data": {
      "text/html": [
       "<div>\n",
       "<style scoped>\n",
       "    .dataframe tbody tr th:only-of-type {\n",
       "        vertical-align: middle;\n",
       "    }\n",
       "\n",
       "    .dataframe tbody tr th {\n",
       "        vertical-align: top;\n",
       "    }\n",
       "\n",
       "    .dataframe thead th {\n",
       "        text-align: right;\n",
       "    }\n",
       "</style>\n",
       "<table border=\"1\" class=\"dataframe\">\n",
       "  <thead>\n",
       "    <tr style=\"text-align: right;\">\n",
       "      <th></th>\n",
       "      <th>name</th>\n",
       "      <th>artist</th>\n",
       "      <th>features.danceability</th>\n",
       "      <th>features.energy</th>\n",
       "      <th>features.key</th>\n",
       "      <th>features.loudness</th>\n",
       "      <th>features.mode</th>\n",
       "      <th>features.speechiness</th>\n",
       "      <th>features.acousticness</th>\n",
       "      <th>features.instrumentalness</th>\n",
       "      <th>features.liveness</th>\n",
       "      <th>features.valence</th>\n",
       "      <th>features.tempo</th>\n",
       "      <th>features.type</th>\n",
       "      <th>features.id</th>\n",
       "      <th>features.uri</th>\n",
       "      <th>features.track_href</th>\n",
       "      <th>features.analysis_url</th>\n",
       "      <th>features.duration_ms</th>\n",
       "      <th>features.time_signature</th>\n",
       "    </tr>\n",
       "  </thead>\n",
       "  <tbody>\n",
       "    <tr>\n",
       "      <th>0</th>\n",
       "      <td>Creep</td>\n",
       "      <td>Radiohead</td>\n",
       "      <td>0.515</td>\n",
       "      <td>0.430</td>\n",
       "      <td>7</td>\n",
       "      <td>-9.935</td>\n",
       "      <td>1</td>\n",
       "      <td>0.0372</td>\n",
       "      <td>0.0097</td>\n",
       "      <td>0.000133</td>\n",
       "      <td>0.129</td>\n",
       "      <td>0.104</td>\n",
       "      <td>91.844</td>\n",
       "      <td>audio_features</td>\n",
       "      <td>70LcF31zb1H0PyJoS1Sx1r</td>\n",
       "      <td>spotify:track:70LcF31zb1H0PyJoS1Sx1r</td>\n",
       "      <td>https://api.spotify.com/v1/tracks/70LcF31zb1H0...</td>\n",
       "      <td>https://api.spotify.com/v1/audio-analysis/70Lc...</td>\n",
       "      <td>238640</td>\n",
       "      <td>4</td>\n",
       "    </tr>\n",
       "    <tr>\n",
       "      <th>1</th>\n",
       "      <td>No Surprises</td>\n",
       "      <td>Radiohead</td>\n",
       "      <td>0.255</td>\n",
       "      <td>0.393</td>\n",
       "      <td>5</td>\n",
       "      <td>-10.654</td>\n",
       "      <td>1</td>\n",
       "      <td>0.0278</td>\n",
       "      <td>0.0577</td>\n",
       "      <td>0.003610</td>\n",
       "      <td>0.113</td>\n",
       "      <td>0.118</td>\n",
       "      <td>76.426</td>\n",
       "      <td>audio_features</td>\n",
       "      <td>10nyNJ6zNy2YVYLrcwLccB</td>\n",
       "      <td>spotify:track:10nyNJ6zNy2YVYLrcwLccB</td>\n",
       "      <td>https://api.spotify.com/v1/tracks/10nyNJ6zNy2Y...</td>\n",
       "      <td>https://api.spotify.com/v1/audio-analysis/10ny...</td>\n",
       "      <td>229120</td>\n",
       "      <td>4</td>\n",
       "    </tr>\n",
       "    <tr>\n",
       "      <th>2</th>\n",
       "      <td>Karma Police</td>\n",
       "      <td>Radiohead</td>\n",
       "      <td>0.360</td>\n",
       "      <td>0.501</td>\n",
       "      <td>7</td>\n",
       "      <td>-9.129</td>\n",
       "      <td>1</td>\n",
       "      <td>0.0258</td>\n",
       "      <td>0.0638</td>\n",
       "      <td>0.000093</td>\n",
       "      <td>0.172</td>\n",
       "      <td>0.324</td>\n",
       "      <td>74.807</td>\n",
       "      <td>audio_features</td>\n",
       "      <td>63OQupATfueTdZMWTxW03A</td>\n",
       "      <td>spotify:track:63OQupATfueTdZMWTxW03A</td>\n",
       "      <td>https://api.spotify.com/v1/tracks/63OQupATfueT...</td>\n",
       "      <td>https://api.spotify.com/v1/audio-analysis/63OQ...</td>\n",
       "      <td>264067</td>\n",
       "      <td>4</td>\n",
       "    </tr>\n",
       "  </tbody>\n",
       "</table>\n",
       "</div>"
      ],
      "text/plain": [
       "           name     artist  features.danceability  features.energy  \\\n",
       "0         Creep  Radiohead                  0.515            0.430   \n",
       "1  No Surprises  Radiohead                  0.255            0.393   \n",
       "2  Karma Police  Radiohead                  0.360            0.501   \n",
       "\n",
       "   features.key  features.loudness  features.mode  features.speechiness  \\\n",
       "0             7             -9.935              1                0.0372   \n",
       "1             5            -10.654              1                0.0278   \n",
       "2             7             -9.129              1                0.0258   \n",
       "\n",
       "   features.acousticness  features.instrumentalness  features.liveness  \\\n",
       "0                 0.0097                   0.000133              0.129   \n",
       "1                 0.0577                   0.003610              0.113   \n",
       "2                 0.0638                   0.000093              0.172   \n",
       "\n",
       "   features.valence  features.tempo   features.type             features.id  \\\n",
       "0             0.104          91.844  audio_features  70LcF31zb1H0PyJoS1Sx1r   \n",
       "1             0.118          76.426  audio_features  10nyNJ6zNy2YVYLrcwLccB   \n",
       "2             0.324          74.807  audio_features  63OQupATfueTdZMWTxW03A   \n",
       "\n",
       "                           features.uri  \\\n",
       "0  spotify:track:70LcF31zb1H0PyJoS1Sx1r   \n",
       "1  spotify:track:10nyNJ6zNy2YVYLrcwLccB   \n",
       "2  spotify:track:63OQupATfueTdZMWTxW03A   \n",
       "\n",
       "                                 features.track_href  \\\n",
       "0  https://api.spotify.com/v1/tracks/70LcF31zb1H0...   \n",
       "1  https://api.spotify.com/v1/tracks/10nyNJ6zNy2Y...   \n",
       "2  https://api.spotify.com/v1/tracks/63OQupATfueT...   \n",
       "\n",
       "                               features.analysis_url  features.duration_ms  \\\n",
       "0  https://api.spotify.com/v1/audio-analysis/70Lc...                238640   \n",
       "1  https://api.spotify.com/v1/audio-analysis/10ny...                229120   \n",
       "2  https://api.spotify.com/v1/audio-analysis/63OQ...                264067   \n",
       "\n",
       "   features.time_signature  \n",
       "0                        4  \n",
       "1                        4  \n",
       "2                        4  "
      ]
     },
     "execution_count": 12,
     "metadata": {},
     "output_type": "execute_result"
    }
   ],
   "source": [
    "df = pd.json_normalize(tracks)\n",
    "df"
   ]
  },
  {
   "cell_type": "code",
   "execution_count": 13,
   "metadata": {},
   "outputs": [
    {
     "data": {
      "text/plain": [
       "Text(0.5, 1.0, 'Danceability Comparison')"
      ]
     },
     "execution_count": 13,
     "metadata": {},
     "output_type": "execute_result"
    },
    {
     "data": {
      "image/png": "[encoded data removed]",
      "text/plain": [
       "<Figure size 1000x600 with 1 Axes>"
      ]
     },
     "metadata": {},
     "output_type": "display_data"
    }
   ],
   "source": [
    "%matplotlib inline\n",
    "import matplotlib.pyplot as plt\n",
    "import seaborn as sns\n",
    "\n",
    "plt.figure(figsize=(10, 6))\n",
    "sns.barplot(x='name', y='features.danceability', hue='name', data=df)\n",
    "plt.title('Danceability Comparison')\n"
   ]
  },
  {
   "cell_type": "code",
   "execution_count": 11,
   "metadata": {},
   "outputs": [],
   "source": [
    "# def get_artist_top_tracks(artist_name):\n",
    "#     # Set up Spotify client credentials manager\n",
    "#     sp = spotipy.Spotify(client_credentials_manager=SpotifyClientCredentials(\n",
    "#         client_id=client_id,\n",
    "#         client_secret=client_secret\n",
    "#     ))\n",
    "\n",
    "#     # Search for the artist\n",
    "#     results = sp.search(q=f'artist:{artist_name}', type='artist')\n",
    "#     artist = results['artists']['items'][0]\n",
    "\n",
    "#     # Get top tracks\n",
    "#     top_tracks = sp.artist_top_tracks(artist['id'])\n",
    "\n",
    "#     return top_tracks"
   ]
  },
  {
   "cell_type": "code",
   "execution_count": 13,
   "metadata": {},
   "outputs": [],
   "source": [
    "# data = get_artist_top_tracks(session, artist_name, limit=2)\n",
    "# data"
   ]
  },
  {
   "cell_type": "code",
   "execution_count": 14,
   "metadata": {},
   "outputs": [],
   "source": [
    "# def validate_session(data):\n",
    "#     if data:\n",
    "#         print(\"valid user session\")\n",
    "#     else:\n",
    "#         print(\"not a valid session\")\n",
    "\n",
    "# validate_session(data)"
   ]
  },
  {
   "cell_type": "code",
   "execution_count": 15,
   "metadata": {},
   "outputs": [],
   "source": [
    "# st.session_state[\"login\"] = \"logIn\"\n",
    "# print(st.session_state[\"login\"])"
   ]
  },
  {
   "cell_type": "code",
   "execution_count": 16,
   "metadata": {},
   "outputs": [],
   "source": [
    "# import pandas as pd\n",
    "# import numpy as np\n",
    "# import matplotlib\n",
    "# matplotlib.use('TkAgg')  # or 'Qt5Agg' if you prefer Qt\n",
    "# import matplotlib.pyplot as plt\n",
    "\n",
    "# # Flatten the JSON and convert to DataFrame\n",
    "# flattened_df = pd.DataFrame(trac['features'].apply(pd.Series))\n",
    "# flattened_df\n"
   ]
  },
  {
   "cell_type": "code",
   "execution_count": 37,
   "metadata": {},
   "outputs": [
    {
     "data": {
      "text/html": [
       "<div>\n",
       "<style scoped>\n",
       "    .dataframe tbody tr th:only-of-type {\n",
       "        vertical-align: middle;\n",
       "    }\n",
       "\n",
       "    .dataframe tbody tr th {\n",
       "        vertical-align: top;\n",
       "    }\n",
       "\n",
       "    .dataframe thead th {\n",
       "        text-align: right;\n",
       "    }\n",
       "</style>\n",
       "<table border=\"1\" class=\"dataframe\">\n",
       "  <thead>\n",
       "    <tr style=\"text-align: right;\">\n",
       "      <th></th>\n",
       "      <th>features.danceability</th>\n",
       "      <th>features.energy</th>\n",
       "      <th>features.key</th>\n",
       "      <th>features.loudness</th>\n",
       "      <th>features.mode</th>\n",
       "      <th>features.speechiness</th>\n",
       "      <th>features.acousticness</th>\n",
       "      <th>features.instrumentalness</th>\n",
       "      <th>features.liveness</th>\n",
       "      <th>features.valence</th>\n",
       "      <th>features.tempo</th>\n",
       "      <th>features.duration_ms</th>\n",
       "      <th>features.time_signature</th>\n",
       "    </tr>\n",
       "  </thead>\n",
       "  <tbody>\n",
       "    <tr>\n",
       "      <th>0</th>\n",
       "      <td>0.515</td>\n",
       "      <td>0.430</td>\n",
       "      <td>7</td>\n",
       "      <td>-9.935</td>\n",
       "      <td>1</td>\n",
       "      <td>0.0372</td>\n",
       "      <td>0.0097</td>\n",
       "      <td>0.000133</td>\n",
       "      <td>0.129</td>\n",
       "      <td>0.104</td>\n",
       "      <td>91.844</td>\n",
       "      <td>238640</td>\n",
       "      <td>4</td>\n",
       "    </tr>\n",
       "    <tr>\n",
       "      <th>1</th>\n",
       "      <td>0.255</td>\n",
       "      <td>0.393</td>\n",
       "      <td>5</td>\n",
       "      <td>-10.654</td>\n",
       "      <td>1</td>\n",
       "      <td>0.0278</td>\n",
       "      <td>0.0577</td>\n",
       "      <td>0.003610</td>\n",
       "      <td>0.113</td>\n",
       "      <td>0.118</td>\n",
       "      <td>76.426</td>\n",
       "      <td>229120</td>\n",
       "      <td>4</td>\n",
       "    </tr>\n",
       "    <tr>\n",
       "      <th>2</th>\n",
       "      <td>0.360</td>\n",
       "      <td>0.501</td>\n",
       "      <td>7</td>\n",
       "      <td>-9.129</td>\n",
       "      <td>1</td>\n",
       "      <td>0.0258</td>\n",
       "      <td>0.0638</td>\n",
       "      <td>0.000093</td>\n",
       "      <td>0.172</td>\n",
       "      <td>0.324</td>\n",
       "      <td>74.807</td>\n",
       "      <td>264067</td>\n",
       "      <td>4</td>\n",
       "    </tr>\n",
       "  </tbody>\n",
       "</table>\n",
       "</div>"
      ],
      "text/plain": [
       "   features.danceability  features.energy  features.key  features.loudness  \\\n",
       "0                  0.515            0.430             7             -9.935   \n",
       "1                  0.255            0.393             5            -10.654   \n",
       "2                  0.360            0.501             7             -9.129   \n",
       "\n",
       "   features.mode  features.speechiness  features.acousticness  \\\n",
       "0              1                0.0372                 0.0097   \n",
       "1              1                0.0278                 0.0577   \n",
       "2              1                0.0258                 0.0638   \n",
       "\n",
       "   features.instrumentalness  features.liveness  features.valence  \\\n",
       "0                   0.000133              0.129             0.104   \n",
       "1                   0.003610              0.113             0.118   \n",
       "2                   0.000093              0.172             0.324   \n",
       "\n",
       "   features.tempo  features.duration_ms  features.time_signature  \n",
       "0          91.844                238640                        4  \n",
       "1          76.426                229120                        4  \n",
       "2          74.807                264067                        4  "
      ]
     },
     "execution_count": 37,
     "metadata": {},
     "output_type": "execute_result"
    }
   ],
   "source": [
    "import numpy as np\n",
    "\n",
    "# Filter numeric columns\n",
    "numeric_columns = df.select_dtypes(include=[np.number]).columns\n",
    "filtered_df = df[numeric_columns]\n",
    "filtered_df"
   ]
  },
  {
   "cell_type": "code",
   "execution_count": 16,
   "metadata": {},
   "outputs": [
    {
     "data": {
      "text/html": [
       "<div>\n",
       "<style scoped>\n",
       "    .dataframe tbody tr th:only-of-type {\n",
       "        vertical-align: middle;\n",
       "    }\n",
       "\n",
       "    .dataframe tbody tr th {\n",
       "        vertical-align: top;\n",
       "    }\n",
       "\n",
       "    .dataframe thead th {\n",
       "        text-align: right;\n",
       "    }\n",
       "</style>\n",
       "<table border=\"1\" class=\"dataframe\">\n",
       "  <thead>\n",
       "    <tr style=\"text-align: right;\">\n",
       "      <th></th>\n",
       "      <th>features.danceability</th>\n",
       "      <th>features.energy</th>\n",
       "      <th>features.key</th>\n",
       "      <th>features.loudness</th>\n",
       "      <th>features.mode</th>\n",
       "      <th>features.speechiness</th>\n",
       "      <th>features.acousticness</th>\n",
       "      <th>features.instrumentalness</th>\n",
       "      <th>features.liveness</th>\n",
       "      <th>features.valence</th>\n",
       "      <th>features.tempo</th>\n",
       "      <th>features.duration_ms</th>\n",
       "      <th>features.time_signature</th>\n",
       "    </tr>\n",
       "  </thead>\n",
       "  <tbody>\n",
       "    <tr>\n",
       "      <th>0</th>\n",
       "      <td>0.515</td>\n",
       "      <td>0.430</td>\n",
       "      <td>7</td>\n",
       "      <td>-9.935</td>\n",
       "      <td>1</td>\n",
       "      <td>0.0372</td>\n",
       "      <td>0.0097</td>\n",
       "      <td>0.000133</td>\n",
       "      <td>0.129</td>\n",
       "      <td>0.104</td>\n",
       "      <td>91.844</td>\n",
       "      <td>238640</td>\n",
       "      <td>4</td>\n",
       "    </tr>\n",
       "    <tr>\n",
       "      <th>1</th>\n",
       "      <td>0.255</td>\n",
       "      <td>0.393</td>\n",
       "      <td>5</td>\n",
       "      <td>-10.654</td>\n",
       "      <td>1</td>\n",
       "      <td>0.0278</td>\n",
       "      <td>0.0577</td>\n",
       "      <td>0.003610</td>\n",
       "      <td>0.113</td>\n",
       "      <td>0.118</td>\n",
       "      <td>76.426</td>\n",
       "      <td>229120</td>\n",
       "      <td>4</td>\n",
       "    </tr>\n",
       "    <tr>\n",
       "      <th>2</th>\n",
       "      <td>0.360</td>\n",
       "      <td>0.501</td>\n",
       "      <td>7</td>\n",
       "      <td>-9.129</td>\n",
       "      <td>1</td>\n",
       "      <td>0.0258</td>\n",
       "      <td>0.0638</td>\n",
       "      <td>0.000093</td>\n",
       "      <td>0.172</td>\n",
       "      <td>0.324</td>\n",
       "      <td>74.807</td>\n",
       "      <td>264067</td>\n",
       "      <td>4</td>\n",
       "    </tr>\n",
       "  </tbody>\n",
       "</table>\n",
       "</div>"
      ],
      "text/plain": [
       "   features.danceability  features.energy  features.key  features.loudness  \\\n",
       "0                  0.515            0.430             7             -9.935   \n",
       "1                  0.255            0.393             5            -10.654   \n",
       "2                  0.360            0.501             7             -9.129   \n",
       "\n",
       "   features.mode  features.speechiness  features.acousticness  \\\n",
       "0              1                0.0372                 0.0097   \n",
       "1              1                0.0278                 0.0577   \n",
       "2              1                0.0258                 0.0638   \n",
       "\n",
       "   features.instrumentalness  features.liveness  features.valence  \\\n",
       "0                   0.000133              0.129             0.104   \n",
       "1                   0.003610              0.113             0.118   \n",
       "2                   0.000093              0.172             0.324   \n",
       "\n",
       "   features.tempo  features.duration_ms  features.time_signature  \n",
       "0          91.844                238640                        4  \n",
       "1          76.426                229120                        4  \n",
       "2          74.807                264067                        4  "
      ]
     },
     "execution_count": 16,
     "metadata": {},
     "output_type": "execute_result"
    }
   ],
   "source": [
    "filtered_df"
   ]
  },
  {
   "cell_type": "code",
   "execution_count": 18,
   "metadata": {},
   "outputs": [
    {
     "ename": "AttributeError",
     "evalue": "'set' object has no attribute 'items'",
     "output_type": "error",
     "traceback": [
      "\u001b[1;31m---------------------------------------------------------------------------\u001b[0m",
      "\u001b[1;31mAttributeError\u001b[0m                            Traceback (most recent call last)",
      "Cell \u001b[1;32mIn[18], line 9\u001b[0m\n\u001b[0;32m      7\u001b[0m \u001b[38;5;66;03m# Example usage\u001b[39;00m\n\u001b[0;32m      8\u001b[0m original_data \u001b[38;5;241m=\u001b[39m [{\u001b[38;5;124m'\u001b[39m\u001b[38;5;124mname\u001b[39m\u001b[38;5;124m'\u001b[39m: \u001b[38;5;124m'\u001b[39m\u001b[38;5;124mCreep\u001b[39m\u001b[38;5;124m'\u001b[39m, \u001b[38;5;124m'\u001b[39m\u001b[38;5;124martist\u001b[39m\u001b[38;5;124m'\u001b[39m: \u001b[38;5;124m'\u001b[39m\u001b[38;5;124mRadiohead\u001b[39m\u001b[38;5;124m'\u001b[39m, \u001b[38;5;124m'\u001b[39m\u001b[38;5;124mfeatures\u001b[39m\u001b[38;5;124m'\u001b[39m: {\u001b[38;5;241m.\u001b[39m\u001b[38;5;241m.\u001b[39m\u001b[38;5;241m.\u001b[39m}}]\n\u001b[1;32m----> 9\u001b[0m flattened_data \u001b[38;5;241m=\u001b[39m \u001b[43mflatten_features\u001b[49m\u001b[43m(\u001b[49m\u001b[43moriginal_data\u001b[49m\u001b[43m)\u001b[49m\n\u001b[0;32m     11\u001b[0m \u001b[38;5;28mprint\u001b[39m(flattened_data)\n",
      "Cell \u001b[1;32mIn[18], line 5\u001b[0m, in \u001b[0;36mflatten_features\u001b[1;34m(data)\u001b[0m\n\u001b[0;32m      2\u001b[0m \u001b[38;5;28;01mdef\u001b[39;00m \u001b[38;5;21mflatten_inner\u001b[39m(inner_dict):\n\u001b[0;32m      3\u001b[0m     \u001b[38;5;28;01mreturn\u001b[39;00m {k\u001b[38;5;241m.\u001b[39mreplace(\u001b[38;5;124m'\u001b[39m\u001b[38;5;124mfeatures.\u001b[39m\u001b[38;5;124m'\u001b[39m, \u001b[38;5;124m'\u001b[39m\u001b[38;5;124m'\u001b[39m): v \u001b[38;5;28;01mfor\u001b[39;00m k, v \u001b[38;5;129;01min\u001b[39;00m inner_dict\u001b[38;5;241m.\u001b[39mitems()}\n\u001b[1;32m----> 5\u001b[0m \u001b[38;5;28;01mreturn\u001b[39;00m [{\u001b[38;5;241m*\u001b[39m\u001b[38;5;241m*\u001b[39mitem, \u001b[38;5;241m*\u001b[39m\u001b[38;5;241m*\u001b[39mflatten_inner(item[\u001b[38;5;124m'\u001b[39m\u001b[38;5;124mfeatures\u001b[39m\u001b[38;5;124m'\u001b[39m])} \u001b[38;5;28;01mfor\u001b[39;00m item \u001b[38;5;129;01min\u001b[39;00m data]\n",
      "Cell \u001b[1;32mIn[18], line 5\u001b[0m, in \u001b[0;36m<listcomp>\u001b[1;34m(.0)\u001b[0m\n\u001b[0;32m      2\u001b[0m \u001b[38;5;28;01mdef\u001b[39;00m \u001b[38;5;21mflatten_inner\u001b[39m(inner_dict):\n\u001b[0;32m      3\u001b[0m     \u001b[38;5;28;01mreturn\u001b[39;00m {k\u001b[38;5;241m.\u001b[39mreplace(\u001b[38;5;124m'\u001b[39m\u001b[38;5;124mfeatures.\u001b[39m\u001b[38;5;124m'\u001b[39m, \u001b[38;5;124m'\u001b[39m\u001b[38;5;124m'\u001b[39m): v \u001b[38;5;28;01mfor\u001b[39;00m k, v \u001b[38;5;129;01min\u001b[39;00m inner_dict\u001b[38;5;241m.\u001b[39mitems()}\n\u001b[1;32m----> 5\u001b[0m \u001b[38;5;28;01mreturn\u001b[39;00m [{\u001b[38;5;241m*\u001b[39m\u001b[38;5;241m*\u001b[39mitem, \u001b[38;5;241m*\u001b[39m\u001b[38;5;241m*\u001b[39m\u001b[43mflatten_inner\u001b[49m\u001b[43m(\u001b[49m\u001b[43mitem\u001b[49m\u001b[43m[\u001b[49m\u001b[38;5;124;43m'\u001b[39;49m\u001b[38;5;124;43mfeatures\u001b[39;49m\u001b[38;5;124;43m'\u001b[39;49m\u001b[43m]\u001b[49m\u001b[43m)\u001b[49m} \u001b[38;5;28;01mfor\u001b[39;00m item \u001b[38;5;129;01min\u001b[39;00m data]\n",
      "Cell \u001b[1;32mIn[18], line 3\u001b[0m, in \u001b[0;36mflatten_features.<locals>.flatten_inner\u001b[1;34m(inner_dict)\u001b[0m\n\u001b[0;32m      2\u001b[0m \u001b[38;5;28;01mdef\u001b[39;00m \u001b[38;5;21mflatten_inner\u001b[39m(inner_dict):\n\u001b[1;32m----> 3\u001b[0m     \u001b[38;5;28;01mreturn\u001b[39;00m {k\u001b[38;5;241m.\u001b[39mreplace(\u001b[38;5;124m'\u001b[39m\u001b[38;5;124mfeatures.\u001b[39m\u001b[38;5;124m'\u001b[39m, \u001b[38;5;124m'\u001b[39m\u001b[38;5;124m'\u001b[39m): v \u001b[38;5;28;01mfor\u001b[39;00m k, v \u001b[38;5;129;01min\u001b[39;00m \u001b[43minner_dict\u001b[49m\u001b[38;5;241;43m.\u001b[39;49m\u001b[43mitems\u001b[49m()}\n",
      "\u001b[1;31mAttributeError\u001b[0m: 'set' object has no attribute 'items'"
     ]
    }
   ],
   "source": [
    "def flatten_features(data):\n",
    "    def flatten_inner(inner_dict):\n",
    "        return {k.replace('features.', ''): v for k, v in inner_dict.items()}\n",
    "    \n",
    "    return [{**item, **flatten_inner(item['features'])} for item in data]\n",
    "\n",
    "# Example usage\n",
    "original_data = [{'name': 'Creep', 'artist': 'Radiohead', 'features': {...}}]\n",
    "flattened_data = flatten_features(original_data)\n",
    "\n",
    "print(flattened_data)"
   ]
  },
  {
   "cell_type": "code",
   "execution_count": 19,
   "metadata": {},
   "outputs": [
    {
     "ename": "KeyError",
     "evalue": "\"None of [Index(['danceability', 'energy', 'key', 'loudness', 'mode', 'speechiness',\\n       'acousticness', 'instrumentalness', 'liveness', 'valence', 'tempo'],\\n      dtype='object')] are in the [columns]\"",
     "output_type": "error",
     "traceback": [
      "\u001b[1;31m---------------------------------------------------------------------------\u001b[0m",
      "\u001b[1;31mKeyError\u001b[0m                                  Traceback (most recent call last)",
      "Cell \u001b[1;32mIn[19], line 1\u001b[0m\n\u001b[1;32m----> 1\u001b[0m normalized_df \u001b[38;5;241m=\u001b[39m  \u001b[43mfiltered_df\u001b[49m\u001b[43m[\u001b[49m\u001b[43m[\u001b[49m\u001b[38;5;124;43m'\u001b[39;49m\u001b[38;5;124;43mdanceability\u001b[39;49m\u001b[38;5;124;43m'\u001b[39;49m\u001b[43m,\u001b[49m\u001b[43m \u001b[49m\u001b[38;5;124;43m'\u001b[39;49m\u001b[38;5;124;43menergy\u001b[39;49m\u001b[38;5;124;43m'\u001b[39;49m\u001b[43m,\u001b[49m\u001b[43m \u001b[49m\u001b[38;5;124;43m'\u001b[39;49m\u001b[38;5;124;43mkey\u001b[39;49m\u001b[38;5;124;43m'\u001b[39;49m\u001b[43m,\u001b[49m\u001b[43m \u001b[49m\u001b[38;5;124;43m'\u001b[39;49m\u001b[38;5;124;43mloudness\u001b[39;49m\u001b[38;5;124;43m'\u001b[39;49m\u001b[43m,\u001b[49m\u001b[43m \u001b[49m\u001b[38;5;124;43m'\u001b[39;49m\u001b[38;5;124;43mmode\u001b[39;49m\u001b[38;5;124;43m'\u001b[39;49m\u001b[43m,\u001b[49m\u001b[43m \u001b[49m\u001b[38;5;124;43m'\u001b[39;49m\u001b[38;5;124;43mspeechiness\u001b[39;49m\u001b[38;5;124;43m'\u001b[39;49m\u001b[43m,\u001b[49m\n\u001b[0;32m      2\u001b[0m \u001b[43m        \u001b[49m\u001b[38;5;124;43m'\u001b[39;49m\u001b[38;5;124;43macousticness\u001b[39;49m\u001b[38;5;124;43m'\u001b[39;49m\u001b[43m,\u001b[49m\u001b[43m \u001b[49m\u001b[38;5;124;43m'\u001b[39;49m\u001b[38;5;124;43minstrumentalness\u001b[39;49m\u001b[38;5;124;43m'\u001b[39;49m\u001b[43m,\u001b[49m\u001b[43m \u001b[49m\u001b[38;5;124;43m'\u001b[39;49m\u001b[38;5;124;43mliveness\u001b[39;49m\u001b[38;5;124;43m'\u001b[39;49m\u001b[43m,\u001b[49m\u001b[43m \u001b[49m\u001b[38;5;124;43m'\u001b[39;49m\u001b[38;5;124;43mvalence\u001b[39;49m\u001b[38;5;124;43m'\u001b[39;49m\u001b[43m,\u001b[49m\u001b[43m \u001b[49m\u001b[38;5;124;43m'\u001b[39;49m\u001b[38;5;124;43mtempo\u001b[39;49m\u001b[38;5;124;43m'\u001b[39;49m\u001b[43m]\u001b[49m\u001b[43m]\u001b[49m \u001b[38;5;241m/\u001b[39m filtered_df[[\u001b[38;5;124m'\u001b[39m\u001b[38;5;124mdanceability\u001b[39m\u001b[38;5;124m'\u001b[39m, \u001b[38;5;124m'\u001b[39m\u001b[38;5;124menergy\u001b[39m\u001b[38;5;124m'\u001b[39m, \u001b[38;5;124m'\u001b[39m\u001b[38;5;124mkey\u001b[39m\u001b[38;5;124m'\u001b[39m, \u001b[38;5;124m'\u001b[39m\u001b[38;5;124mloudness\u001b[39m\u001b[38;5;124m'\u001b[39m, \u001b[38;5;124m'\u001b[39m\u001b[38;5;124mmode\u001b[39m\u001b[38;5;124m'\u001b[39m, \u001b[38;5;124m'\u001b[39m\u001b[38;5;124mspeechiness\u001b[39m\u001b[38;5;124m'\u001b[39m,\n\u001b[0;32m      3\u001b[0m         \u001b[38;5;124m'\u001b[39m\u001b[38;5;124macousticness\u001b[39m\u001b[38;5;124m'\u001b[39m, \u001b[38;5;124m'\u001b[39m\u001b[38;5;124minstrumentalness\u001b[39m\u001b[38;5;124m'\u001b[39m, \u001b[38;5;124m'\u001b[39m\u001b[38;5;124mliveness\u001b[39m\u001b[38;5;124m'\u001b[39m, \u001b[38;5;124m'\u001b[39m\u001b[38;5;124mvalence\u001b[39m\u001b[38;5;124m'\u001b[39m, \u001b[38;5;124m'\u001b[39m\u001b[38;5;124mtempo\u001b[39m\u001b[38;5;124m'\u001b[39m]]\u001b[38;5;241m.\u001b[39mmax()\n\u001b[0;32m      5\u001b[0m normalized_df\n",
      "File \u001b[1;32mc:\\Users\\donju\\OneDrive\\Desktop\\Data_Stuff\\Streamlit_Training\\.venv\\lib\\site-packages\\pandas\\core\\frame.py:4108\u001b[0m, in \u001b[0;36mDataFrame.__getitem__\u001b[1;34m(self, key)\u001b[0m\n\u001b[0;32m   4106\u001b[0m     \u001b[38;5;28;01mif\u001b[39;00m is_iterator(key):\n\u001b[0;32m   4107\u001b[0m         key \u001b[38;5;241m=\u001b[39m \u001b[38;5;28mlist\u001b[39m(key)\n\u001b[1;32m-> 4108\u001b[0m     indexer \u001b[38;5;241m=\u001b[39m \u001b[38;5;28;43mself\u001b[39;49m\u001b[38;5;241;43m.\u001b[39;49m\u001b[43mcolumns\u001b[49m\u001b[38;5;241;43m.\u001b[39;49m\u001b[43m_get_indexer_strict\u001b[49m\u001b[43m(\u001b[49m\u001b[43mkey\u001b[49m\u001b[43m,\u001b[49m\u001b[43m \u001b[49m\u001b[38;5;124;43m\"\u001b[39;49m\u001b[38;5;124;43mcolumns\u001b[39;49m\u001b[38;5;124;43m\"\u001b[39;49m\u001b[43m)\u001b[49m[\u001b[38;5;241m1\u001b[39m]\n\u001b[0;32m   4110\u001b[0m \u001b[38;5;66;03m# take() does not accept boolean indexers\u001b[39;00m\n\u001b[0;32m   4111\u001b[0m \u001b[38;5;28;01mif\u001b[39;00m \u001b[38;5;28mgetattr\u001b[39m(indexer, \u001b[38;5;124m\"\u001b[39m\u001b[38;5;124mdtype\u001b[39m\u001b[38;5;124m\"\u001b[39m, \u001b[38;5;28;01mNone\u001b[39;00m) \u001b[38;5;241m==\u001b[39m \u001b[38;5;28mbool\u001b[39m:\n",
      "File \u001b[1;32mc:\\Users\\donju\\OneDrive\\Desktop\\Data_Stuff\\Streamlit_Training\\.venv\\lib\\site-packages\\pandas\\core\\indexes\\base.py:6200\u001b[0m, in \u001b[0;36mIndex._get_indexer_strict\u001b[1;34m(self, key, axis_name)\u001b[0m\n\u001b[0;32m   6197\u001b[0m \u001b[38;5;28;01melse\u001b[39;00m:\n\u001b[0;32m   6198\u001b[0m     keyarr, indexer, new_indexer \u001b[38;5;241m=\u001b[39m \u001b[38;5;28mself\u001b[39m\u001b[38;5;241m.\u001b[39m_reindex_non_unique(keyarr)\n\u001b[1;32m-> 6200\u001b[0m \u001b[38;5;28;43mself\u001b[39;49m\u001b[38;5;241;43m.\u001b[39;49m\u001b[43m_raise_if_missing\u001b[49m\u001b[43m(\u001b[49m\u001b[43mkeyarr\u001b[49m\u001b[43m,\u001b[49m\u001b[43m \u001b[49m\u001b[43mindexer\u001b[49m\u001b[43m,\u001b[49m\u001b[43m \u001b[49m\u001b[43maxis_name\u001b[49m\u001b[43m)\u001b[49m\n\u001b[0;32m   6202\u001b[0m keyarr \u001b[38;5;241m=\u001b[39m \u001b[38;5;28mself\u001b[39m\u001b[38;5;241m.\u001b[39mtake(indexer)\n\u001b[0;32m   6203\u001b[0m \u001b[38;5;28;01mif\u001b[39;00m \u001b[38;5;28misinstance\u001b[39m(key, Index):\n\u001b[0;32m   6204\u001b[0m     \u001b[38;5;66;03m# GH 42790 - Preserve name from an Index\u001b[39;00m\n",
      "File \u001b[1;32mc:\\Users\\donju\\OneDrive\\Desktop\\Data_Stuff\\Streamlit_Training\\.venv\\lib\\site-packages\\pandas\\core\\indexes\\base.py:6249\u001b[0m, in \u001b[0;36mIndex._raise_if_missing\u001b[1;34m(self, key, indexer, axis_name)\u001b[0m\n\u001b[0;32m   6247\u001b[0m \u001b[38;5;28;01mif\u001b[39;00m nmissing:\n\u001b[0;32m   6248\u001b[0m     \u001b[38;5;28;01mif\u001b[39;00m nmissing \u001b[38;5;241m==\u001b[39m \u001b[38;5;28mlen\u001b[39m(indexer):\n\u001b[1;32m-> 6249\u001b[0m         \u001b[38;5;28;01mraise\u001b[39;00m \u001b[38;5;167;01mKeyError\u001b[39;00m(\u001b[38;5;124mf\u001b[39m\u001b[38;5;124m\"\u001b[39m\u001b[38;5;124mNone of [\u001b[39m\u001b[38;5;132;01m{\u001b[39;00mkey\u001b[38;5;132;01m}\u001b[39;00m\u001b[38;5;124m] are in the [\u001b[39m\u001b[38;5;132;01m{\u001b[39;00maxis_name\u001b[38;5;132;01m}\u001b[39;00m\u001b[38;5;124m]\u001b[39m\u001b[38;5;124m\"\u001b[39m)\n\u001b[0;32m   6251\u001b[0m     not_found \u001b[38;5;241m=\u001b[39m \u001b[38;5;28mlist\u001b[39m(ensure_index(key)[missing_mask\u001b[38;5;241m.\u001b[39mnonzero()[\u001b[38;5;241m0\u001b[39m]]\u001b[38;5;241m.\u001b[39munique())\n\u001b[0;32m   6252\u001b[0m     \u001b[38;5;28;01mraise\u001b[39;00m \u001b[38;5;167;01mKeyError\u001b[39;00m(\u001b[38;5;124mf\u001b[39m\u001b[38;5;124m\"\u001b[39m\u001b[38;5;132;01m{\u001b[39;00mnot_found\u001b[38;5;132;01m}\u001b[39;00m\u001b[38;5;124m not in index\u001b[39m\u001b[38;5;124m\"\u001b[39m)\n",
      "\u001b[1;31mKeyError\u001b[0m: \"None of [Index(['danceability', 'energy', 'key', 'loudness', 'mode', 'speechiness',\\n       'acousticness', 'instrumentalness', 'liveness', 'valence', 'tempo'],\\n      dtype='object')] are in the [columns]\""
     ]
    }
   ],
   "source": [
    "normalized_df =  filtered_df[['danceability', 'energy', 'key', 'loudness', 'mode', 'speechiness',\n",
    "        'acousticness', 'instrumentalness', 'liveness', 'valence', 'tempo']] / filtered_df[['danceability', 'energy', 'key', 'loudness', 'mode', 'speechiness',\n",
    "        'acousticness', 'instrumentalness', 'liveness', 'valence', 'tempo']].max()\n",
    "\n",
    "normalized_df"
   ]
  },
  {
   "cell_type": "code",
   "execution_count": 23,
   "metadata": {},
   "outputs": [
    {
     "ename": "NameError",
     "evalue": "name 'normalized_df' is not defined",
     "output_type": "error",
     "traceback": [
      "\u001b[1;31m---------------------------------------------------------------------------\u001b[0m",
      "\u001b[1;31mNameError\u001b[0m                                 Traceback (most recent call last)",
      "Cell \u001b[1;32mIn[23], line 2\u001b[0m\n\u001b[0;32m      1\u001b[0m \u001b[38;5;66;03m# Or using merge()\u001b[39;00m\n\u001b[1;32m----> 2\u001b[0m result \u001b[38;5;241m=\u001b[39m df\u001b[38;5;241m.\u001b[39mmerge(\u001b[43mnormalized_df\u001b[49m, left_index\u001b[38;5;241m=\u001b[39m\u001b[38;5;28;01mTrue\u001b[39;00m, right_index\u001b[38;5;241m=\u001b[39m\u001b[38;5;28;01mTrue\u001b[39;00m)\n\u001b[0;32m      3\u001b[0m result\u001b[38;5;241m.\u001b[39mdrop(\u001b[38;5;124m'\u001b[39m\u001b[38;5;124mfeatures\u001b[39m\u001b[38;5;124m'\u001b[39m, axis\u001b[38;5;241m=\u001b[39m\u001b[38;5;241m1\u001b[39m, inplace\u001b[38;5;241m=\u001b[39m\u001b[38;5;28;01mTrue\u001b[39;00m)\n\u001b[0;32m      4\u001b[0m result\n",
      "\u001b[1;31mNameError\u001b[0m: name 'normalized_df' is not defined"
     ]
    }
   ],
   "source": [
    "# Or using merge()\n",
    "result = df.merge(normalized_df, left_index=True, right_index=True)\n",
    "result.drop('features', axis=1, inplace=True)\n",
    "result"
   ]
  },
  {
   "cell_type": "code",
   "execution_count": 41,
   "metadata": {},
   "outputs": [
    {
     "ename": "KeyError",
     "evalue": "'energy'",
     "output_type": "error",
     "traceback": [
      "\u001b[1;31m---------------------------------------------------------------------------\u001b[0m",
      "\u001b[1;31mKeyError\u001b[0m                                  Traceback (most recent call last)",
      "File \u001b[1;32mc:\\Users\\donju\\OneDrive\\Desktop\\Data_Stuff\\Streamlit_Training\\.venv\\lib\\site-packages\\pandas\\core\\indexes\\base.py:3805\u001b[0m, in \u001b[0;36mIndex.get_loc\u001b[1;34m(self, key)\u001b[0m\n\u001b[0;32m   3804\u001b[0m \u001b[38;5;28;01mtry\u001b[39;00m:\n\u001b[1;32m-> 3805\u001b[0m     \u001b[38;5;28;01mreturn\u001b[39;00m \u001b[38;5;28;43mself\u001b[39;49m\u001b[38;5;241;43m.\u001b[39;49m\u001b[43m_engine\u001b[49m\u001b[38;5;241;43m.\u001b[39;49m\u001b[43mget_loc\u001b[49m\u001b[43m(\u001b[49m\u001b[43mcasted_key\u001b[49m\u001b[43m)\u001b[49m\n\u001b[0;32m   3806\u001b[0m \u001b[38;5;28;01mexcept\u001b[39;00m \u001b[38;5;167;01mKeyError\u001b[39;00m \u001b[38;5;28;01mas\u001b[39;00m err:\n",
      "File \u001b[1;32mindex.pyx:167\u001b[0m, in \u001b[0;36mpandas._libs.index.IndexEngine.get_loc\u001b[1;34m()\u001b[0m\n",
      "File \u001b[1;32mindex.pyx:196\u001b[0m, in \u001b[0;36mpandas._libs.index.IndexEngine.get_loc\u001b[1;34m()\u001b[0m\n",
      "File \u001b[1;32mpandas\\\\_libs\\\\hashtable_class_helper.pxi:7081\u001b[0m, in \u001b[0;36mpandas._libs.hashtable.PyObjectHashTable.get_item\u001b[1;34m()\u001b[0m\n",
      "File \u001b[1;32mpandas\\\\_libs\\\\hashtable_class_helper.pxi:7089\u001b[0m, in \u001b[0;36mpandas._libs.hashtable.PyObjectHashTable.get_item\u001b[1;34m()\u001b[0m\n",
      "\u001b[1;31mKeyError\u001b[0m: 'energy'",
      "\nThe above exception was the direct cause of the following exception:\n",
      "\u001b[1;31mKeyError\u001b[0m                                  Traceback (most recent call last)",
      "Cell \u001b[1;32mIn[41], line 11\u001b[0m\n\u001b[0;32m      7\u001b[0m selected_columns \u001b[38;5;241m=\u001b[39m [\u001b[38;5;124m'\u001b[39m\u001b[38;5;124mdanceability\u001b[39m\u001b[38;5;124m'\u001b[39m, \u001b[38;5;124m'\u001b[39m\u001b[38;5;124menergy\u001b[39m\u001b[38;5;124m'\u001b[39m, \u001b[38;5;124m'\u001b[39m\u001b[38;5;124mloudness\u001b[39m\u001b[38;5;124m'\u001b[39m, \u001b[38;5;124m'\u001b[39m\u001b[38;5;124mspeechiness\u001b[39m\u001b[38;5;124m'\u001b[39m, \u001b[38;5;124m'\u001b[39m\u001b[38;5;124macousticness\u001b[39m\u001b[38;5;124m'\u001b[39m,\n\u001b[0;32m      8\u001b[0m                     \u001b[38;5;124m'\u001b[39m\u001b[38;5;124minstrumentalness\u001b[39m\u001b[38;5;124m'\u001b[39m, \u001b[38;5;124m'\u001b[39m\u001b[38;5;124mliveness\u001b[39m\u001b[38;5;124m'\u001b[39m, \u001b[38;5;124m'\u001b[39m\u001b[38;5;124mvalence\u001b[39m\u001b[38;5;124m'\u001b[39m, \u001b[38;5;124m'\u001b[39m\u001b[38;5;124mtempo\u001b[39m\u001b[38;5;124m'\u001b[39m]\n\u001b[0;32m     10\u001b[0m \u001b[38;5;66;03m# Create the radar chart\u001b[39;00m\n\u001b[1;32m---> 11\u001b[0m fig \u001b[38;5;241m=\u001b[39m px\u001b[38;5;241m.\u001b[39mline_polar(result[selected_columns], r\u001b[38;5;241m=\u001b[39m\u001b[43mdf\u001b[49m\u001b[43m[\u001b[49m\u001b[38;5;124;43m'\u001b[39;49m\u001b[38;5;124;43menergy\u001b[39;49m\u001b[38;5;124;43m'\u001b[39;49m\u001b[43m]\u001b[49m, theta\u001b[38;5;241m=\u001b[39mresult[selected_columns],\n\u001b[0;32m     12\u001b[0m                     line_close\u001b[38;5;241m=\u001b[39m\u001b[38;5;28;01mTrue\u001b[39;00m, title\u001b[38;5;241m=\u001b[39m\u001b[38;5;124m'\u001b[39m\u001b[38;5;124mMusical Characteristics Radar Chart\u001b[39m\u001b[38;5;124m'\u001b[39m)\n\u001b[0;32m     14\u001b[0m \u001b[38;5;66;03m# # Customize the chart appearance\u001b[39;00m\n\u001b[0;32m     15\u001b[0m \u001b[38;5;66;03m# fig.update_layout(\u001b[39;00m\n\u001b[0;32m     16\u001b[0m \u001b[38;5;66;03m#     polar=dict(\u001b[39;00m\n\u001b[1;32m   (...)\u001b[0m\n\u001b[0;32m     26\u001b[0m \u001b[38;5;66;03m# # Show the chart\u001b[39;00m\n\u001b[0;32m     27\u001b[0m \u001b[38;5;66;03m# fig.show()\u001b[39;00m\n",
      "File \u001b[1;32mc:\\Users\\donju\\OneDrive\\Desktop\\Data_Stuff\\Streamlit_Training\\.venv\\lib\\site-packages\\pandas\\core\\frame.py:4102\u001b[0m, in \u001b[0;36mDataFrame.__getitem__\u001b[1;34m(self, key)\u001b[0m\n\u001b[0;32m   4100\u001b[0m \u001b[38;5;28;01mif\u001b[39;00m \u001b[38;5;28mself\u001b[39m\u001b[38;5;241m.\u001b[39mcolumns\u001b[38;5;241m.\u001b[39mnlevels \u001b[38;5;241m>\u001b[39m \u001b[38;5;241m1\u001b[39m:\n\u001b[0;32m   4101\u001b[0m     \u001b[38;5;28;01mreturn\u001b[39;00m \u001b[38;5;28mself\u001b[39m\u001b[38;5;241m.\u001b[39m_getitem_multilevel(key)\n\u001b[1;32m-> 4102\u001b[0m indexer \u001b[38;5;241m=\u001b[39m \u001b[38;5;28;43mself\u001b[39;49m\u001b[38;5;241;43m.\u001b[39;49m\u001b[43mcolumns\u001b[49m\u001b[38;5;241;43m.\u001b[39;49m\u001b[43mget_loc\u001b[49m\u001b[43m(\u001b[49m\u001b[43mkey\u001b[49m\u001b[43m)\u001b[49m\n\u001b[0;32m   4103\u001b[0m \u001b[38;5;28;01mif\u001b[39;00m is_integer(indexer):\n\u001b[0;32m   4104\u001b[0m     indexer \u001b[38;5;241m=\u001b[39m [indexer]\n",
      "File \u001b[1;32mc:\\Users\\donju\\OneDrive\\Desktop\\Data_Stuff\\Streamlit_Training\\.venv\\lib\\site-packages\\pandas\\core\\indexes\\base.py:3812\u001b[0m, in \u001b[0;36mIndex.get_loc\u001b[1;34m(self, key)\u001b[0m\n\u001b[0;32m   3807\u001b[0m     \u001b[38;5;28;01mif\u001b[39;00m \u001b[38;5;28misinstance\u001b[39m(casted_key, \u001b[38;5;28mslice\u001b[39m) \u001b[38;5;129;01mor\u001b[39;00m (\n\u001b[0;32m   3808\u001b[0m         \u001b[38;5;28misinstance\u001b[39m(casted_key, abc\u001b[38;5;241m.\u001b[39mIterable)\n\u001b[0;32m   3809\u001b[0m         \u001b[38;5;129;01mand\u001b[39;00m \u001b[38;5;28many\u001b[39m(\u001b[38;5;28misinstance\u001b[39m(x, \u001b[38;5;28mslice\u001b[39m) \u001b[38;5;28;01mfor\u001b[39;00m x \u001b[38;5;129;01min\u001b[39;00m casted_key)\n\u001b[0;32m   3810\u001b[0m     ):\n\u001b[0;32m   3811\u001b[0m         \u001b[38;5;28;01mraise\u001b[39;00m InvalidIndexError(key)\n\u001b[1;32m-> 3812\u001b[0m     \u001b[38;5;28;01mraise\u001b[39;00m \u001b[38;5;167;01mKeyError\u001b[39;00m(key) \u001b[38;5;28;01mfrom\u001b[39;00m \u001b[38;5;21;01merr\u001b[39;00m\n\u001b[0;32m   3813\u001b[0m \u001b[38;5;28;01mexcept\u001b[39;00m \u001b[38;5;167;01mTypeError\u001b[39;00m:\n\u001b[0;32m   3814\u001b[0m     \u001b[38;5;66;03m# If we have a listlike key, _check_indexing_error will raise\u001b[39;00m\n\u001b[0;32m   3815\u001b[0m     \u001b[38;5;66;03m#  InvalidIndexError. Otherwise we fall through and re-raise\u001b[39;00m\n\u001b[0;32m   3816\u001b[0m     \u001b[38;5;66;03m#  the TypeError.\u001b[39;00m\n\u001b[0;32m   3817\u001b[0m     \u001b[38;5;28mself\u001b[39m\u001b[38;5;241m.\u001b[39m_check_indexing_error(key)\n",
      "\u001b[1;31mKeyError\u001b[0m: 'energy'"
     ]
    }
   ],
   "source": [
    "import pandas as pd\n",
    "import plotly.express as px\n",
    "\n",
    "# Assuming your DataFrame is named 'df'\n",
    "\n",
    "# Select relevant columns\n",
    "selected_columns = ['danceability', 'energy', 'loudness', 'speechiness', 'acousticness',\n",
    "                    'instrumentalness', 'liveness', 'valence', 'tempo']\n",
    "\n",
    "# Create the radar chart\n",
    "fig = px.line_polar(result[selected_columns], r=df['energy'], theta=result[selected_columns],\n",
    "                    line_close=True, title='Musical Characteristics Radar Chart')\n",
    "\n",
    "# # Customize the chart appearance\n",
    "# fig.update_layout(\n",
    "#     polar=dict(\n",
    "#         radialaxis=dict(range=[0, max(df['energy'])], ticksuffix='', tickformat=',.0f')),\n",
    "#         angularaxis=dict(tickangle=-30)\n",
    "#     )\n",
    "\n",
    "\n",
    "# # Add labels\n",
    "# fig.update_xaxes(showticklabels=True, tickangle=45)\n",
    "# fig.update_yaxes(showticklabels=True)\n",
    "\n",
    "# # Show the chart\n",
    "# fig.show()\n"
   ]
  },
  {
   "cell_type": "code",
   "execution_count": 26,
   "metadata": {},
   "outputs": [
    {
     "data": {
      "text/html": [
       "<div>\n",
       "<style scoped>\n",
       "    .dataframe tbody tr th:only-of-type {\n",
       "        vertical-align: middle;\n",
       "    }\n",
       "\n",
       "    .dataframe tbody tr th {\n",
       "        vertical-align: top;\n",
       "    }\n",
       "\n",
       "    .dataframe thead th {\n",
       "        text-align: right;\n",
       "    }\n",
       "</style>\n",
       "<table border=\"1\" class=\"dataframe\">\n",
       "  <thead>\n",
       "    <tr style=\"text-align: right;\">\n",
       "      <th></th>\n",
       "      <th>artists</th>\n",
       "      <th>available_markets</th>\n",
       "      <th>disc_number</th>\n",
       "      <th>duration_ms</th>\n",
       "      <th>explicit</th>\n",
       "      <th>href</th>\n",
       "      <th>id</th>\n",
       "      <th>is_local</th>\n",
       "      <th>name</th>\n",
       "      <th>popularity</th>\n",
       "      <th>...</th>\n",
       "      <th>album.id</th>\n",
       "      <th>album.images</th>\n",
       "      <th>album.name</th>\n",
       "      <th>album.release_date</th>\n",
       "      <th>album.release_date_precision</th>\n",
       "      <th>album.total_tracks</th>\n",
       "      <th>album.type</th>\n",
       "      <th>album.uri</th>\n",
       "      <th>external_ids.isrc</th>\n",
       "      <th>external_urls.spotify</th>\n",
       "    </tr>\n",
       "  </thead>\n",
       "  <tbody>\n",
       "    <tr>\n",
       "      <th>0</th>\n",
       "      <td>[{'external_urls': {'spotify': 'https://open.s...</td>\n",
       "      <td>[AR, AU, AT, BE, BO, BR, BG, CA, CL, CO, CR, C...</td>\n",
       "      <td>1</td>\n",
       "      <td>238640</td>\n",
       "      <td>True</td>\n",
       "      <td>https://api.spotify.com/v1/tracks/70LcF31zb1H0...</td>\n",
       "      <td>70LcF31zb1H0PyJoS1Sx1r</td>\n",
       "      <td>False</td>\n",
       "      <td>Creep</td>\n",
       "      <td>86</td>\n",
       "      <td>...</td>\n",
       "      <td>3gBVdu4a1MMJVMy6vwPEb8</td>\n",
       "      <td>[{'url': 'https://i.scdn.co/image/ab67616d0000...</td>\n",
       "      <td>Pablo Honey</td>\n",
       "      <td>1993-02-22</td>\n",
       "      <td>day</td>\n",
       "      <td>12</td>\n",
       "      <td>album</td>\n",
       "      <td>spotify:album:3gBVdu4a1MMJVMy6vwPEb8</td>\n",
       "      <td>GBAYE9200070</td>\n",
       "      <td>https://open.spotify.com/track/70LcF31zb1H0PyJ...</td>\n",
       "    </tr>\n",
       "  </tbody>\n",
       "</table>\n",
       "<p>1 rows × 29 columns</p>\n",
       "</div>"
      ],
      "text/plain": [
       "                                             artists  \\\n",
       "0  [{'external_urls': {'spotify': 'https://open.s...   \n",
       "\n",
       "                                   available_markets  disc_number  \\\n",
       "0  [AR, AU, AT, BE, BO, BR, BG, CA, CL, CO, CR, C...            1   \n",
       "\n",
       "   duration_ms  explicit                                               href  \\\n",
       "0       238640      True  https://api.spotify.com/v1/tracks/70LcF31zb1H0...   \n",
       "\n",
       "                       id  is_local   name  popularity  ...  \\\n",
       "0  70LcF31zb1H0PyJoS1Sx1r     False  Creep          86  ...   \n",
       "\n",
       "                 album.id                                       album.images  \\\n",
       "0  3gBVdu4a1MMJVMy6vwPEb8  [{'url': 'https://i.scdn.co/image/ab67616d0000...   \n",
       "\n",
       "    album.name album.release_date album.release_date_precision  \\\n",
       "0  Pablo Honey         1993-02-22                          day   \n",
       "\n",
       "  album.total_tracks album.type                             album.uri  \\\n",
       "0                 12      album  spotify:album:3gBVdu4a1MMJVMy6vwPEb8   \n",
       "\n",
       "  external_ids.isrc                              external_urls.spotify  \n",
       "0      GBAYE9200070  https://open.spotify.com/track/70LcF31zb1H0PyJ...  \n",
       "\n",
       "[1 rows x 29 columns]"
      ]
     },
     "execution_count": 26,
     "metadata": {},
     "output_type": "execute_result"
    }
   ],
   "source": [
    "track = sp.track('70LcF31zb1H0PyJoS1Sx1r')\n",
    "\n",
    "track = pd.json_normalize(track)\n",
    "track"
   ]
  },
  {
   "cell_type": "code",
   "execution_count": 27,
   "metadata": {},
   "outputs": [
    {
     "data": {
      "text/html": [
       "<div>\n",
       "<style scoped>\n",
       "    .dataframe tbody tr th:only-of-type {\n",
       "        vertical-align: middle;\n",
       "    }\n",
       "\n",
       "    .dataframe tbody tr th {\n",
       "        vertical-align: top;\n",
       "    }\n",
       "\n",
       "    .dataframe thead th {\n",
       "        text-align: right;\n",
       "    }\n",
       "</style>\n",
       "<table border=\"1\" class=\"dataframe\">\n",
       "  <thead>\n",
       "    <tr style=\"text-align: right;\">\n",
       "      <th></th>\n",
       "      <th>available_markets</th>\n",
       "      <th>is_present</th>\n",
       "    </tr>\n",
       "  </thead>\n",
       "  <tbody>\n",
       "    <tr>\n",
       "      <th>0</th>\n",
       "      <td>AD</td>\n",
       "      <td>1</td>\n",
       "    </tr>\n",
       "    <tr>\n",
       "      <th>1</th>\n",
       "      <td>AE</td>\n",
       "      <td>1</td>\n",
       "    </tr>\n",
       "    <tr>\n",
       "      <th>2</th>\n",
       "      <td>AG</td>\n",
       "      <td>1</td>\n",
       "    </tr>\n",
       "    <tr>\n",
       "      <th>3</th>\n",
       "      <td>AL</td>\n",
       "      <td>1</td>\n",
       "    </tr>\n",
       "    <tr>\n",
       "      <th>4</th>\n",
       "      <td>AM</td>\n",
       "      <td>1</td>\n",
       "    </tr>\n",
       "    <tr>\n",
       "      <th>...</th>\n",
       "      <td>...</td>\n",
       "      <td>...</td>\n",
       "    </tr>\n",
       "    <tr>\n",
       "      <th>180</th>\n",
       "      <td>WS</td>\n",
       "      <td>1</td>\n",
       "    </tr>\n",
       "    <tr>\n",
       "      <th>181</th>\n",
       "      <td>XK</td>\n",
       "      <td>1</td>\n",
       "    </tr>\n",
       "    <tr>\n",
       "      <th>182</th>\n",
       "      <td>ZA</td>\n",
       "      <td>1</td>\n",
       "    </tr>\n",
       "    <tr>\n",
       "      <th>183</th>\n",
       "      <td>ZM</td>\n",
       "      <td>1</td>\n",
       "    </tr>\n",
       "    <tr>\n",
       "      <th>184</th>\n",
       "      <td>ZW</td>\n",
       "      <td>1</td>\n",
       "    </tr>\n",
       "  </tbody>\n",
       "</table>\n",
       "<p>185 rows × 2 columns</p>\n",
       "</div>"
      ],
      "text/plain": [
       "    available_markets  is_present\n",
       "0                  AD           1\n",
       "1                  AE           1\n",
       "2                  AG           1\n",
       "3                  AL           1\n",
       "4                  AM           1\n",
       "..                ...         ...\n",
       "180                WS           1\n",
       "181                XK           1\n",
       "182                ZA           1\n",
       "183                ZM           1\n",
       "184                ZW           1\n",
       "\n",
       "[185 rows x 2 columns]"
      ]
     },
     "execution_count": 27,
     "metadata": {},
     "output_type": "execute_result"
    }
   ],
   "source": [
    "countries = track[\"available_markets\"].explode(ignore_index = False)\n",
    "countries = countries.to_frame()\n",
    "countries['is_present'] = 1\n",
    "\n",
    "#  Group by 'country' and sum 'is_present' to get counts\n",
    "country_counts = countries.groupby('available_markets')['is_present'].sum().reset_index()\n",
    "country_counts"
   ]
  },
  {
   "cell_type": "code",
   "execution_count": 28,
   "metadata": {},
   "outputs": [
    {
     "data": {
      "text/html": [
       "<div>\n",
       "<style scoped>\n",
       "    .dataframe tbody tr th:only-of-type {\n",
       "        vertical-align: middle;\n",
       "    }\n",
       "\n",
       "    .dataframe tbody tr th {\n",
       "        vertical-align: top;\n",
       "    }\n",
       "\n",
       "    .dataframe thead th {\n",
       "        text-align: right;\n",
       "    }\n",
       "</style>\n",
       "<table border=\"1\" class=\"dataframe\">\n",
       "  <thead>\n",
       "    <tr style=\"text-align: right;\">\n",
       "      <th></th>\n",
       "      <th>featurecla</th>\n",
       "      <th>scalerank</th>\n",
       "      <th>labelrank</th>\n",
       "      <th>sovereignt</th>\n",
       "      <th>sov_a3</th>\n",
       "      <th>adm0_dif</th>\n",
       "      <th>level</th>\n",
       "      <th>type</th>\n",
       "      <th>tlc</th>\n",
       "      <th>admin</th>\n",
       "      <th>...</th>\n",
       "      <th>fclass_id</th>\n",
       "      <th>fclass_pl</th>\n",
       "      <th>fclass_gr</th>\n",
       "      <th>fclass_it</th>\n",
       "      <th>fclass_nl</th>\n",
       "      <th>fclass_se</th>\n",
       "      <th>fclass_bd</th>\n",
       "      <th>fclass_ua</th>\n",
       "      <th>filename</th>\n",
       "      <th>geometry</th>\n",
       "    </tr>\n",
       "  </thead>\n",
       "  <tbody>\n",
       "    <tr>\n",
       "      <th>0</th>\n",
       "      <td>Admin-0 country</td>\n",
       "      <td>1</td>\n",
       "      <td>5</td>\n",
       "      <td>Costa Rica</td>\n",
       "      <td>CRI</td>\n",
       "      <td>0</td>\n",
       "      <td>2</td>\n",
       "      <td>Sovereign country</td>\n",
       "      <td>1</td>\n",
       "      <td>Costa Rica</td>\n",
       "      <td>...</td>\n",
       "      <td>None</td>\n",
       "      <td>None</td>\n",
       "      <td>None</td>\n",
       "      <td>None</td>\n",
       "      <td>None</td>\n",
       "      <td>None</td>\n",
       "      <td>None</td>\n",
       "      <td>None</td>\n",
       "      <td>CRI.geojson</td>\n",
       "      <td>POLYGON ((-82.5462 9.56613, -82.93289 9.47681,...</td>\n",
       "    </tr>\n",
       "    <tr>\n",
       "      <th>1</th>\n",
       "      <td>Admin-0 country</td>\n",
       "      <td>1</td>\n",
       "      <td>5</td>\n",
       "      <td>Nicaragua</td>\n",
       "      <td>NIC</td>\n",
       "      <td>0</td>\n",
       "      <td>2</td>\n",
       "      <td>Sovereign country</td>\n",
       "      <td>1</td>\n",
       "      <td>Nicaragua</td>\n",
       "      <td>...</td>\n",
       "      <td>None</td>\n",
       "      <td>None</td>\n",
       "      <td>None</td>\n",
       "      <td>None</td>\n",
       "      <td>None</td>\n",
       "      <td>None</td>\n",
       "      <td>None</td>\n",
       "      <td>None</td>\n",
       "      <td>NIC.geojson</td>\n",
       "      <td>POLYGON ((-83.65561 10.93876, -83.89505 10.726...</td>\n",
       "    </tr>\n",
       "    <tr>\n",
       "      <th>2</th>\n",
       "      <td>Admin-0 country</td>\n",
       "      <td>1</td>\n",
       "      <td>5</td>\n",
       "      <td>Haiti</td>\n",
       "      <td>HTI</td>\n",
       "      <td>0</td>\n",
       "      <td>2</td>\n",
       "      <td>Sovereign country</td>\n",
       "      <td>1</td>\n",
       "      <td>Haiti</td>\n",
       "      <td>...</td>\n",
       "      <td>None</td>\n",
       "      <td>None</td>\n",
       "      <td>None</td>\n",
       "      <td>None</td>\n",
       "      <td>None</td>\n",
       "      <td>None</td>\n",
       "      <td>None</td>\n",
       "      <td>None</td>\n",
       "      <td>HTI.geojson</td>\n",
       "      <td>POLYGON ((-71.71236 19.71446, -71.62487 19.169...</td>\n",
       "    </tr>\n",
       "    <tr>\n",
       "      <th>3</th>\n",
       "      <td>Admin-0 country</td>\n",
       "      <td>1</td>\n",
       "      <td>5</td>\n",
       "      <td>Dominican Republic</td>\n",
       "      <td>DOM</td>\n",
       "      <td>0</td>\n",
       "      <td>2</td>\n",
       "      <td>Sovereign country</td>\n",
       "      <td>1</td>\n",
       "      <td>Dominican Republic</td>\n",
       "      <td>...</td>\n",
       "      <td>None</td>\n",
       "      <td>None</td>\n",
       "      <td>None</td>\n",
       "      <td>None</td>\n",
       "      <td>None</td>\n",
       "      <td>None</td>\n",
       "      <td>None</td>\n",
       "      <td>None</td>\n",
       "      <td>DOM.geojson</td>\n",
       "      <td>POLYGON ((-71.7083 18.045, -71.68774 18.31666,...</td>\n",
       "    </tr>\n",
       "    <tr>\n",
       "      <th>4</th>\n",
       "      <td>Admin-0 country</td>\n",
       "      <td>1</td>\n",
       "      <td>6</td>\n",
       "      <td>El Salvador</td>\n",
       "      <td>SLV</td>\n",
       "      <td>0</td>\n",
       "      <td>2</td>\n",
       "      <td>Sovereign country</td>\n",
       "      <td>1</td>\n",
       "      <td>El Salvador</td>\n",
       "      <td>...</td>\n",
       "      <td>None</td>\n",
       "      <td>None</td>\n",
       "      <td>None</td>\n",
       "      <td>None</td>\n",
       "      <td>None</td>\n",
       "      <td>None</td>\n",
       "      <td>None</td>\n",
       "      <td>None</td>\n",
       "      <td>SLV.geojson</td>\n",
       "      <td>POLYGON ((-89.35333 14.42413, -89.05851 14.340...</td>\n",
       "    </tr>\n",
       "    <tr>\n",
       "      <th>...</th>\n",
       "      <td>...</td>\n",
       "      <td>...</td>\n",
       "      <td>...</td>\n",
       "      <td>...</td>\n",
       "      <td>...</td>\n",
       "      <td>...</td>\n",
       "      <td>...</td>\n",
       "      <td>...</td>\n",
       "      <td>...</td>\n",
       "      <td>...</td>\n",
       "      <td>...</td>\n",
       "      <td>...</td>\n",
       "      <td>...</td>\n",
       "      <td>...</td>\n",
       "      <td>...</td>\n",
       "      <td>...</td>\n",
       "      <td>...</td>\n",
       "      <td>...</td>\n",
       "      <td>...</td>\n",
       "      <td>...</td>\n",
       "      <td>...</td>\n",
       "    </tr>\n",
       "    <tr>\n",
       "      <th>172</th>\n",
       "      <td>Admin-0 country</td>\n",
       "      <td>1</td>\n",
       "      <td>3</td>\n",
       "      <td>France</td>\n",
       "      <td>FR1</td>\n",
       "      <td>1</td>\n",
       "      <td>2</td>\n",
       "      <td>Dependency</td>\n",
       "      <td>1</td>\n",
       "      <td>New Caledonia</td>\n",
       "      <td>...</td>\n",
       "      <td>None</td>\n",
       "      <td>None</td>\n",
       "      <td>None</td>\n",
       "      <td>None</td>\n",
       "      <td>None</td>\n",
       "      <td>None</td>\n",
       "      <td>None</td>\n",
       "      <td>None</td>\n",
       "      <td>NCL.geojson</td>\n",
       "      <td>POLYGON ((165.77999 -21.08, 166.59999 -21.7000...</td>\n",
       "    </tr>\n",
       "    <tr>\n",
       "      <th>173</th>\n",
       "      <td>Admin-0 country</td>\n",
       "      <td>1</td>\n",
       "      <td>3</td>\n",
       "      <td>Solomon Islands</td>\n",
       "      <td>SLB</td>\n",
       "      <td>0</td>\n",
       "      <td>2</td>\n",
       "      <td>Sovereign country</td>\n",
       "      <td>1</td>\n",
       "      <td>Solomon Islands</td>\n",
       "      <td>...</td>\n",
       "      <td>None</td>\n",
       "      <td>None</td>\n",
       "      <td>None</td>\n",
       "      <td>None</td>\n",
       "      <td>None</td>\n",
       "      <td>None</td>\n",
       "      <td>None</td>\n",
       "      <td>None</td>\n",
       "      <td>SLB.geojson</td>\n",
       "      <td>MULTIPOLYGON (((162.11902 -10.48272, 162.39865...</td>\n",
       "    </tr>\n",
       "    <tr>\n",
       "      <th>174</th>\n",
       "      <td>Admin-0 country</td>\n",
       "      <td>1</td>\n",
       "      <td>4</td>\n",
       "      <td>Vanuatu</td>\n",
       "      <td>VUT</td>\n",
       "      <td>0</td>\n",
       "      <td>2</td>\n",
       "      <td>Sovereign country</td>\n",
       "      <td>1</td>\n",
       "      <td>Vanuatu</td>\n",
       "      <td>...</td>\n",
       "      <td>None</td>\n",
       "      <td>None</td>\n",
       "      <td>None</td>\n",
       "      <td>None</td>\n",
       "      <td>None</td>\n",
       "      <td>None</td>\n",
       "      <td>None</td>\n",
       "      <td>None</td>\n",
       "      <td>VUT.geojson</td>\n",
       "      <td>MULTIPOLYGON (((167.2168 -15.89185, 167.84488 ...</td>\n",
       "    </tr>\n",
       "    <tr>\n",
       "      <th>175</th>\n",
       "      <td>Admin-0 country</td>\n",
       "      <td>1</td>\n",
       "      <td>4</td>\n",
       "      <td>Antarctica</td>\n",
       "      <td>ATA</td>\n",
       "      <td>0</td>\n",
       "      <td>2</td>\n",
       "      <td>Indeterminate</td>\n",
       "      <td>1</td>\n",
       "      <td>Antarctica</td>\n",
       "      <td>...</td>\n",
       "      <td>None</td>\n",
       "      <td>None</td>\n",
       "      <td>None</td>\n",
       "      <td>None</td>\n",
       "      <td>None</td>\n",
       "      <td>None</td>\n",
       "      <td>None</td>\n",
       "      <td>None</td>\n",
       "      <td>ATA.geojson</td>\n",
       "      <td>MULTIPOLYGON (((-48.66062 -78.04702, -48.1514 ...</td>\n",
       "    </tr>\n",
       "    <tr>\n",
       "      <th>176</th>\n",
       "      <td>Admin-0 country</td>\n",
       "      <td>3</td>\n",
       "      <td>6</td>\n",
       "      <td>France</td>\n",
       "      <td>FR1</td>\n",
       "      <td>1</td>\n",
       "      <td>2</td>\n",
       "      <td>Dependency</td>\n",
       "      <td>1</td>\n",
       "      <td>French Southern and Antarctic Lands</td>\n",
       "      <td>...</td>\n",
       "      <td>None</td>\n",
       "      <td>None</td>\n",
       "      <td>None</td>\n",
       "      <td>None</td>\n",
       "      <td>None</td>\n",
       "      <td>None</td>\n",
       "      <td>None</td>\n",
       "      <td>None</td>\n",
       "      <td>ATF.geojson</td>\n",
       "      <td>POLYGON ((68.935 -48.625, 69.58 -48.94, 70.525...</td>\n",
       "    </tr>\n",
       "  </tbody>\n",
       "</table>\n",
       "<p>177 rows × 170 columns</p>\n",
       "</div>"
      ],
      "text/plain": [
       "          featurecla  scalerank  labelrank          sovereignt sov_a3  \\\n",
       "0    Admin-0 country          1          5          Costa Rica    CRI   \n",
       "1    Admin-0 country          1          5           Nicaragua    NIC   \n",
       "2    Admin-0 country          1          5               Haiti    HTI   \n",
       "3    Admin-0 country          1          5  Dominican Republic    DOM   \n",
       "4    Admin-0 country          1          6         El Salvador    SLV   \n",
       "..               ...        ...        ...                 ...    ...   \n",
       "172  Admin-0 country          1          3              France    FR1   \n",
       "173  Admin-0 country          1          3     Solomon Islands    SLB   \n",
       "174  Admin-0 country          1          4             Vanuatu    VUT   \n",
       "175  Admin-0 country          1          4          Antarctica    ATA   \n",
       "176  Admin-0 country          3          6              France    FR1   \n",
       "\n",
       "     adm0_dif  level               type tlc  \\\n",
       "0           0      2  Sovereign country   1   \n",
       "1           0      2  Sovereign country   1   \n",
       "2           0      2  Sovereign country   1   \n",
       "3           0      2  Sovereign country   1   \n",
       "4           0      2  Sovereign country   1   \n",
       "..        ...    ...                ...  ..   \n",
       "172         1      2         Dependency   1   \n",
       "173         0      2  Sovereign country   1   \n",
       "174         0      2  Sovereign country   1   \n",
       "175         0      2      Indeterminate   1   \n",
       "176         1      2         Dependency   1   \n",
       "\n",
       "                                   admin  ... fclass_id  fclass_pl fclass_gr  \\\n",
       "0                             Costa Rica  ...      None       None      None   \n",
       "1                              Nicaragua  ...      None       None      None   \n",
       "2                                  Haiti  ...      None       None      None   \n",
       "3                     Dominican Republic  ...      None       None      None   \n",
       "4                            El Salvador  ...      None       None      None   \n",
       "..                                   ...  ...       ...        ...       ...   \n",
       "172                        New Caledonia  ...      None       None      None   \n",
       "173                      Solomon Islands  ...      None       None      None   \n",
       "174                              Vanuatu  ...      None       None      None   \n",
       "175                           Antarctica  ...      None       None      None   \n",
       "176  French Southern and Antarctic Lands  ...      None       None      None   \n",
       "\n",
       "    fclass_it  fclass_nl fclass_se fclass_bd  fclass_ua     filename  \\\n",
       "0        None       None      None      None       None  CRI.geojson   \n",
       "1        None       None      None      None       None  NIC.geojson   \n",
       "2        None       None      None      None       None  HTI.geojson   \n",
       "3        None       None      None      None       None  DOM.geojson   \n",
       "4        None       None      None      None       None  SLV.geojson   \n",
       "..        ...        ...       ...       ...        ...          ...   \n",
       "172      None       None      None      None       None  NCL.geojson   \n",
       "173      None       None      None      None       None  SLB.geojson   \n",
       "174      None       None      None      None       None  VUT.geojson   \n",
       "175      None       None      None      None       None  ATA.geojson   \n",
       "176      None       None      None      None       None  ATF.geojson   \n",
       "\n",
       "                                              geometry  \n",
       "0    POLYGON ((-82.5462 9.56613, -82.93289 9.47681,...  \n",
       "1    POLYGON ((-83.65561 10.93876, -83.89505 10.726...  \n",
       "2    POLYGON ((-71.71236 19.71446, -71.62487 19.169...  \n",
       "3    POLYGON ((-71.7083 18.045, -71.68774 18.31666,...  \n",
       "4    POLYGON ((-89.35333 14.42413, -89.05851 14.340...  \n",
       "..                                                 ...  \n",
       "172  POLYGON ((165.77999 -21.08, 166.59999 -21.7000...  \n",
       "173  MULTIPOLYGON (((162.11902 -10.48272, 162.39865...  \n",
       "174  MULTIPOLYGON (((167.2168 -15.89185, 167.84488 ...  \n",
       "175  MULTIPOLYGON (((-48.66062 -78.04702, -48.1514 ...  \n",
       "176  POLYGON ((68.935 -48.625, 69.58 -48.94, 70.525...  \n",
       "\n",
       "[177 rows x 170 columns]"
      ]
     },
     "execution_count": 28,
     "metadata": {},
     "output_type": "execute_result"
    }
   ],
   "source": [
    "import geopandas as gpd\n",
    "countries_path = r'custom.geo.json'\n",
    "gdf = gpd.read_file(countries_path)\n",
    "gdf"
   ]
  },
  {
   "cell_type": "code",
   "execution_count": 30,
   "metadata": {},
   "outputs": [
    {
     "data": {
      "text/plain": [
       "0      CRI\n",
       "1      NIC\n",
       "2      HTI\n",
       "3      DOM\n",
       "4      SLV\n",
       "      ... \n",
       "172    FR1\n",
       "173    SLB\n",
       "174    VUT\n",
       "175    ATA\n",
       "176    FR1\n",
       "Name: sov_a3, Length: 177, dtype: object"
      ]
     },
     "execution_count": 30,
     "metadata": {},
     "output_type": "execute_result"
    }
   ],
   "source": [
    "iso_3 = gdf['sov_a3']\n",
    "iso_3"
   ]
  },
  {
   "cell_type": "code",
   "execution_count": 31,
   "metadata": {},
   "outputs": [],
   "source": [
    "import pycountry\n",
    "\n",
    "# Function to convert ISO-2 to ISO-3 using pycountry\n",
    "def iso2_to_iso3(iso2_code):\n",
    "    try:\n",
    "        # pycountry.countries.get() returns None if the country is not found\n",
    "        return pycountry.countries.get(alpha_2=iso2_code).alpha_3\n",
    "    except AttributeError:\n",
    "        # If the country is not found, return None or handle as needed\n",
    "        return None\n",
    "\n",
    "# Apply the function to the 'country' column\n",
    "country_counts['country_iso_3'] = country_counts['available_markets'].apply(iso2_to_iso3)"
   ]
  },
  {
   "cell_type": "code",
   "execution_count": 32,
   "metadata": {},
   "outputs": [
    {
     "data": {
      "text/html": [
       "<div>\n",
       "<style scoped>\n",
       "    .dataframe tbody tr th:only-of-type {\n",
       "        vertical-align: middle;\n",
       "    }\n",
       "\n",
       "    .dataframe tbody tr th {\n",
       "        vertical-align: top;\n",
       "    }\n",
       "\n",
       "    .dataframe thead th {\n",
       "        text-align: right;\n",
       "    }\n",
       "</style>\n",
       "<table border=\"1\" class=\"dataframe\">\n",
       "  <thead>\n",
       "    <tr style=\"text-align: right;\">\n",
       "      <th></th>\n",
       "      <th>is_present</th>\n",
       "      <th>country_iso_3</th>\n",
       "    </tr>\n",
       "  </thead>\n",
       "  <tbody>\n",
       "    <tr>\n",
       "      <th>0</th>\n",
       "      <td>1</td>\n",
       "      <td>AND</td>\n",
       "    </tr>\n",
       "    <tr>\n",
       "      <th>1</th>\n",
       "      <td>1</td>\n",
       "      <td>ARE</td>\n",
       "    </tr>\n",
       "    <tr>\n",
       "      <th>2</th>\n",
       "      <td>1</td>\n",
       "      <td>ATG</td>\n",
       "    </tr>\n",
       "    <tr>\n",
       "      <th>3</th>\n",
       "      <td>1</td>\n",
       "      <td>ALB</td>\n",
       "    </tr>\n",
       "    <tr>\n",
       "      <th>4</th>\n",
       "      <td>1</td>\n",
       "      <td>ARM</td>\n",
       "    </tr>\n",
       "    <tr>\n",
       "      <th>...</th>\n",
       "      <td>...</td>\n",
       "      <td>...</td>\n",
       "    </tr>\n",
       "    <tr>\n",
       "      <th>180</th>\n",
       "      <td>1</td>\n",
       "      <td>WSM</td>\n",
       "    </tr>\n",
       "    <tr>\n",
       "      <th>181</th>\n",
       "      <td>1</td>\n",
       "      <td>None</td>\n",
       "    </tr>\n",
       "    <tr>\n",
       "      <th>182</th>\n",
       "      <td>1</td>\n",
       "      <td>ZAF</td>\n",
       "    </tr>\n",
       "    <tr>\n",
       "      <th>183</th>\n",
       "      <td>1</td>\n",
       "      <td>ZMB</td>\n",
       "    </tr>\n",
       "    <tr>\n",
       "      <th>184</th>\n",
       "      <td>1</td>\n",
       "      <td>ZWE</td>\n",
       "    </tr>\n",
       "  </tbody>\n",
       "</table>\n",
       "<p>185 rows × 2 columns</p>\n",
       "</div>"
      ],
      "text/plain": [
       "     is_present country_iso_3\n",
       "0             1           AND\n",
       "1             1           ARE\n",
       "2             1           ATG\n",
       "3             1           ALB\n",
       "4             1           ARM\n",
       "..          ...           ...\n",
       "180           1           WSM\n",
       "181           1          None\n",
       "182           1           ZAF\n",
       "183           1           ZMB\n",
       "184           1           ZWE\n",
       "\n",
       "[185 rows x 2 columns]"
      ]
     },
     "execution_count": 32,
     "metadata": {},
     "output_type": "execute_result"
    }
   ],
   "source": [
    "country_counts.drop('available_markets', axis=1)"
   ]
  },
  {
   "cell_type": "code",
   "execution_count": 36,
   "metadata": {},
   "outputs": [
    {
     "data": {
      "application/vnd.plotly.v1+json": {
       "config": {
        "plotlyServerURL": "https://plot.ly"
       },
       "data": [
        {
         "coloraxis": "coloraxis",
         "geo": "geo",
         "hovertemplate": "<b>%{hovertext}</b><br><br>country_iso_3=%{location}<br>is_present=%{z}<extra></extra>",
         "hovertext": [
          "AD",
          "AE",
          "AG",
          "AL",
          "AM",
          "AO",
          "AR",
          "AT",
          "AU",
          "AZ",
          "BA",
          "BB",
          "BD",
          "BE",
          "BF",
          "BG",
          "BH",
          "BI",
          "BJ",
          "BN",
          "BO",
          "BR",
          "BS",
          "BT",
          "BW",
          "BY",
          "BZ",
          "CA",
          "CD",
          "CG",
          "CH",
          "CI",
          "CL",
          "CM",
          "CO",
          "CR",
          "CV",
          "CW",
          "CY",
          "CZ",
          "DE",
          "DJ",
          "DK",
          "DM",
          "DO",
          "DZ",
          "EC",
          "EE",
          "EG",
          "ES",
          "ET",
          "FI",
          "FJ",
          "FM",
          "FR",
          "GA",
          "GB",
          "GD",
          "GE",
          "GH",
          "GM",
          "GN",
          "GQ",
          "GR",
          "GT",
          "GW",
          "GY",
          "HK",
          "HN",
          "HR",
          "HT",
          "HU",
          "ID",
          "IE",
          "IL",
          "IN",
          "IQ",
          "IS",
          "IT",
          "JM",
          "JO",
          "JP",
          "KE",
          "KG",
          "KH",
          "KI",
          "KM",
          "KN",
          "KR",
          "KW",
          "KZ",
          "LA",
          "LB",
          "LC",
          "LI",
          "LK",
          "LR",
          "LS",
          "LT",
          "LU",
          "LV",
          "LY",
          "MA",
          "MC",
          "MD",
          "ME",
          "MG",
          "MH",
          "MK",
          "ML",
          "MN",
          "MO",
          "MR",
          "MT",
          "MU",
          "MV",
          "MW",
          "MX",
          "MY",
          "MZ",
          "NA",
          "NE",
          "NG",
          "NI",
          "NL",
          "NO",
          "NP",
          "NR",
          "NZ",
          "OM",
          "PA",
          "PE",
          "PG",
          "PH",
          "PK",
          "PL",
          "PR",
          "PS",
          "PT",
          "PW",
          "PY",
          "QA",
          "RO",
          "RS",
          "RW",
          "SA",
          "SB",
          "SC",
          "SE",
          "SG",
          "SI",
          "SK",
          "SL",
          "SM",
          "SN",
          "SR",
          "ST",
          "SV",
          "SZ",
          "TD",
          "TG",
          "TH",
          "TJ",
          "TL",
          "TN",
          "TO",
          "TR",
          "TT",
          "TV",
          "TW",
          "TZ",
          "UA",
          "UG",
          "US",
          "UY",
          "UZ",
          "VC",
          "VE",
          "VN",
          "VU",
          "WS",
          "XK",
          "ZA",
          "ZM",
          "ZW"
         ],
         "locationmode": "ISO-3",
         "locations": [
          "AND",
          "ARE",
          "ATG",
          "ALB",
          "ARM",
          "AGO",
          "ARG",
          "AUT",
          "AUS",
          "AZE",
          "BIH",
          "BRB",
          "BGD",
          "BEL",
          "BFA",
          "BGR",
          "BHR",
          "BDI",
          "BEN",
          "BRN",
          "BOL",
          "BRA",
          "BHS",
          "BTN",
          "BWA",
          "BLR",
          "BLZ",
          "CAN",
          "COD",
          "COG",
          "CHE",
          "CIV",
          "CHL",
          "CMR",
          "COL",
          "CRI",
          "CPV",
          "CUW",
          "CYP",
          "CZE",
          "DEU",
          "DJI",
          "DNK",
          "DMA",
          "DOM",
          "DZA",
          "ECU",
          "EST",
          "EGY",
          "ESP",
          "ETH",
          "FIN",
          "FJI",
          "FSM",
          "FRA",
          "GAB",
          "GBR",
          "GRD",
          "GEO",
          "GHA",
          "GMB",
          "GIN",
          "GNQ",
          "GRC",
          "GTM",
          "GNB",
          "GUY",
          "HKG",
          "HND",
          "HRV",
          "HTI",
          "HUN",
          "IDN",
          "IRL",
          "ISR",
          "IND",
          "IRQ",
          "ISL",
          "ITA",
          "JAM",
          "JOR",
          "JPN",
          "KEN",
          "KGZ",
          "KHM",
          "KIR",
          "COM",
          "KNA",
          "KOR",
          "KWT",
          "KAZ",
          "LAO",
          "LBN",
          "LCA",
          "LIE",
          "LKA",
          "LBR",
          "LSO",
          "LTU",
          "LUX",
          "LVA",
          "LBY",
          "MAR",
          "MCO",
          "MDA",
          "MNE",
          "MDG",
          "MHL",
          "MKD",
          "MLI",
          "MNG",
          "MAC",
          "MRT",
          "MLT",
          "MUS",
          "MDV",
          "MWI",
          "MEX",
          "MYS",
          "MOZ",
          "NAM",
          "NER",
          "NGA",
          "NIC",
          "NLD",
          "NOR",
          "NPL",
          "NRU",
          "NZL",
          "OMN",
          "PAN",
          "PER",
          "PNG",
          "PHL",
          "PAK",
          "POL",
          "PRI",
          "PSE",
          "PRT",
          "PLW",
          "PRY",
          "QAT",
          "ROU",
          "SRB",
          "RWA",
          "SAU",
          "SLB",
          "SYC",
          "SWE",
          "SGP",
          "SVN",
          "SVK",
          "SLE",
          "SMR",
          "SEN",
          "SUR",
          "STP",
          "SLV",
          "SWZ",
          "TCD",
          "TGO",
          "THA",
          "TJK",
          "TLS",
          "TUN",
          "TON",
          "TUR",
          "TTO",
          "TUV",
          "TWN",
          "TZA",
          "UKR",
          "UGA",
          "USA",
          "URY",
          "UZB",
          "VCT",
          "VEN",
          "VNM",
          "VUT",
          "WSM",
          null,
          "ZAF",
          "ZMB",
          "ZWE"
         ],
         "name": "",
         "type": "choropleth",
         "z": [
          1,
          1,
          1,
          1,
          1,
          1,
          1,
          1,
          1,
          1,
          1,
          1,
          1,
          1,
          1,
          1,
          1,
          1,
          1,
          1,
          1,
          1,
          1,
          1,
          1,
          1,
          1,
          1,
          1,
          1,
          1,
          1,
          1,
          1,
          1,
          1,
          1,
          1,
          1,
          1,
          1,
          1,
          1,
          1,
          1,
          1,
          1,
          1,
          1,
          1,
          1,
          1,
          1,
          1,
          1,
          1,
          1,
          1,
          1,
          1,
          1,
          1,
          1,
          1,
          1,
          1,
          1,
          1,
          1,
          1,
          1,
          1,
          1,
          1,
          1,
          1,
          1,
          1,
          1,
          1,
          1,
          1,
          1,
          1,
          1,
          1,
          1,
          1,
          1,
          1,
          1,
          1,
          1,
          1,
          1,
          1,
          1,
          1,
          1,
          1,
          1,
          1,
          1,
          1,
          1,
          1,
          1,
          1,
          1,
          1,
          1,
          1,
          1,
          1,
          1,
          1,
          1,
          1,
          1,
          1,
          1,
          1,
          1,
          1,
          1,
          1,
          1,
          1,
          1,
          1,
          1,
          1,
          1,
          1,
          1,
          1,
          1,
          1,
          1,
          1,
          1,
          1,
          1,
          1,
          1,
          1,
          1,
          1,
          1,
          1,
          1,
          1,
          1,
          1,
          1,
          1,
          1,
          1,
          1,
          1,
          1,
          1,
          1,
          1,
          1,
          1,
          1,
          1,
          1,
          1,
          1,
          1,
          1,
          1,
          1,
          1,
          1,
          1,
          1,
          1,
          1,
          1,
          1,
          1,
          1
         ]
        }
       ],
       "layout": {
        "coloraxis": {
         "colorbar": {
          "title": {
           "text": "is_present"
          }
         },
         "colorscale": [
          [
           0,
           "rgb(247,252,245)"
          ],
          [
           0.125,
           "rgb(229,245,224)"
          ],
          [
           0.25,
           "rgb(199,233,192)"
          ],
          [
           0.375,
           "rgb(161,217,155)"
          ],
          [
           0.5,
           "rgb(116,196,118)"
          ],
          [
           0.625,
           "rgb(65,171,93)"
          ],
          [
           0.75,
           "rgb(35,139,69)"
          ],
          [
           0.875,
           "rgb(0,109,44)"
          ],
          [
           1,
           "rgb(0,68,27)"
          ]
         ]
        },
        "geo": {
         "center": {},
         "domain": {
          "x": [
           0,
           1
          ],
          "y": [
           0,
           1
          ]
         }
        },
        "legend": {
         "tracegroupgap": 0
        },
        "template": {
         "data": {
          "candlestick": [
           {
            "decreasing": {
             "line": {
              "color": "#000033"
             }
            },
            "increasing": {
             "line": {
              "color": "#000032"
             }
            },
            "type": "candlestick"
           }
          ],
          "contour": [
           {
            "colorscale": [
             [
              0,
              "#000011"
             ],
             [
              0.1111111111111111,
              "#000012"
             ],
             [
              0.2222222222222222,
              "#000013"
             ],
             [
              0.3333333333333333,
              "#000014"
             ],
             [
              0.4444444444444444,
              "#000015"
             ],
             [
              0.5555555555555556,
              "#000016"
             ],
             [
              0.6666666666666666,
              "#000017"
             ],
             [
              0.7777777777777778,
              "#000018"
             ],
             [
              0.8888888888888888,
              "#000019"
             ],
             [
              1,
              "#000020"
             ]
            ],
            "type": "contour"
           }
          ],
          "contourcarpet": [
           {
            "colorscale": [
             [
              0,
              "#000011"
             ],
             [
              0.1111111111111111,
              "#000012"
             ],
             [
              0.2222222222222222,
              "#000013"
             ],
             [
              0.3333333333333333,
              "#000014"
             ],
             [
              0.4444444444444444,
              "#000015"
             ],
             [
              0.5555555555555556,
              "#000016"
             ],
             [
              0.6666666666666666,
              "#000017"
             ],
             [
              0.7777777777777778,
              "#000018"
             ],
             [
              0.8888888888888888,
              "#000019"
             ],
             [
              1,
              "#000020"
             ]
            ],
            "type": "contourcarpet"
           }
          ],
          "heatmap": [
           {
            "colorscale": [
             [
              0,
              "#000011"
             ],
             [
              0.1111111111111111,
              "#000012"
             ],
             [
              0.2222222222222222,
              "#000013"
             ],
             [
              0.3333333333333333,
              "#000014"
             ],
             [
              0.4444444444444444,
              "#000015"
             ],
             [
              0.5555555555555556,
              "#000016"
             ],
             [
              0.6666666666666666,
              "#000017"
             ],
             [
              0.7777777777777778,
              "#000018"
             ],
             [
              0.8888888888888888,
              "#000019"
             ],
             [
              1,
              "#000020"
             ]
            ],
            "type": "heatmap"
           }
          ],
          "histogram2d": [
           {
            "colorscale": [
             [
              0,
              "#000011"
             ],
             [
              0.1111111111111111,
              "#000012"
             ],
             [
              0.2222222222222222,
              "#000013"
             ],
             [
              0.3333333333333333,
              "#000014"
             ],
             [
              0.4444444444444444,
              "#000015"
             ],
             [
              0.5555555555555556,
              "#000016"
             ],
             [
              0.6666666666666666,
              "#000017"
             ],
             [
              0.7777777777777778,
              "#000018"
             ],
             [
              0.8888888888888888,
              "#000019"
             ],
             [
              1,
              "#000020"
             ]
            ],
            "type": "histogram2d"
           }
          ],
          "icicle": [
           {
            "textfont": {
             "color": "white"
            },
            "type": "icicle"
           }
          ],
          "sankey": [
           {
            "textfont": {
             "color": "#000036"
            },
            "type": "sankey"
           }
          ],
          "scatter": [
           {
            "marker": {
             "line": {
              "width": 0
             }
            },
            "type": "scatter"
           }
          ],
          "table": [
           {
            "cells": {
             "fill": {
              "color": "#000038"
             },
             "font": {
              "color": "#000037"
             },
             "line": {
              "color": "#000039"
             }
            },
            "header": {
             "fill": {
              "color": "#000040"
             },
             "font": {
              "color": "#000036"
             },
             "line": {
              "color": "#000039"
             }
            },
            "type": "table"
           }
          ],
          "waterfall": [
           {
            "connector": {
             "line": {
              "color": "#000036",
              "width": 2
             }
            },
            "decreasing": {
             "marker": {
              "color": "#000033"
             }
            },
            "increasing": {
             "marker": {
              "color": "#000032"
             }
            },
            "totals": {
             "marker": {
              "color": "#000034"
             }
            },
            "type": "waterfall"
           }
          ]
         },
         "layout": {
          "coloraxis": {
           "colorscale": [
            [
             0,
             "#000011"
            ],
            [
             0.1111111111111111,
             "#000012"
            ],
            [
             0.2222222222222222,
             "#000013"
            ],
            [
             0.3333333333333333,
             "#000014"
            ],
            [
             0.4444444444444444,
             "#000015"
            ],
            [
             0.5555555555555556,
             "#000016"
            ],
            [
             0.6666666666666666,
             "#000017"
            ],
            [
             0.7777777777777778,
             "#000018"
            ],
            [
             0.8888888888888888,
             "#000019"
            ],
            [
             1,
             "#000020"
            ]
           ]
          },
          "colorscale": {
           "diverging": [
            [
             0,
             "#000021"
            ],
            [
             0.1,
             "#000022"
            ],
            [
             0.2,
             "#000023"
            ],
            [
             0.3,
             "#000024"
            ],
            [
             0.4,
             "#000025"
            ],
            [
             0.5,
             "#000026"
            ],
            [
             0.6,
             "#000027"
            ],
            [
             0.7,
             "#000028"
            ],
            [
             0.8,
             "#000029"
            ],
            [
             0.9,
             "#000030"
            ],
            [
             1,
             "#000031"
            ]
           ],
           "sequential": [
            [
             0,
             "#000011"
            ],
            [
             0.1111111111111111,
             "#000012"
            ],
            [
             0.2222222222222222,
             "#000013"
            ],
            [
             0.3333333333333333,
             "#000014"
            ],
            [
             0.4444444444444444,
             "#000015"
            ],
            [
             0.5555555555555556,
             "#000016"
            ],
            [
             0.6666666666666666,
             "#000017"
            ],
            [
             0.7777777777777778,
             "#000018"
            ],
            [
             0.8888888888888888,
             "#000019"
            ],
            [
             1,
             "#000020"
            ]
           ],
           "sequentialminus": [
            [
             0,
             "#000011"
            ],
            [
             0.1111111111111111,
             "#000012"
            ],
            [
             0.2222222222222222,
             "#000013"
            ],
            [
             0.3333333333333333,
             "#000014"
            ],
            [
             0.4444444444444444,
             "#000015"
            ],
            [
             0.5555555555555556,
             "#000016"
            ],
            [
             0.6666666666666666,
             "#000017"
            ],
            [
             0.7777777777777778,
             "#000018"
            ],
            [
             0.8888888888888888,
             "#000019"
            ],
            [
             1,
             "#000020"
            ]
           ]
          },
          "colorway": [
           "#000001",
           "#000002",
           "#000003",
           "#000004",
           "#000005",
           "#000006",
           "#000007",
           "#000008",
           "#000009",
           "#000010"
          ]
         }
        },
        "title": {
         "text": "Countries Present in Dataset"
        }
       }
      }
     },
     "metadata": {},
     "output_type": "display_data"
    }
   ],
   "source": [
    "import plotly_express as px\n",
    "# Create the choropleth map\n",
    "fig = px.choropleth(\n",
    "    data_frame=country_counts,\n",
    "    locations=\"country_iso_3\",  \n",
    "    locationmode='ISO-3',  \n",
    "    color=\"is_present\",\n",
    "    color_continuous_scale=\"Greens\",\n",
    "    hover_name=\"available_markets\",\n",
    "    title=\"Countries Present in Dataset\"\n",
    ")\n",
    "\n",
    "fig.show()"
   ]
  },
  {
   "cell_type": "code",
   "execution_count": null,
   "metadata": {},
   "outputs": [],
   "source": []
  }
 ],
 "metadata": {
  "kernelspec": {
   "display_name": ".venv",
   "language": "python",
   "name": "python3"
  },
  "language_info": {
   "codemirror_mode": {
    "name": "ipython",
    "version": 3
   },
   "file_extension": ".py",
   "mimetype": "text/x-python",
   "name": "python",
   "nbconvert_exporter": "python",
   "pygments_lexer": "ipython3",
   "version": "3.10.6"
  }
 },
 "nbformat": 4,
 "nbformat_minor": 2
}
