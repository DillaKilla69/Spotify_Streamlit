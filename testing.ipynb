{
 "cells": [
  {
   "cell_type": "code",
   "execution_count": 1,
   "metadata": {},
   "outputs": [],
   "source": [
    "import json\n",
    "import pandas as pd\n",
    "from spotipy.oauth2 import SpotifyClientCredentials\n",
    "import spotipy\n",
    "from IPython.display import Image, HTML\n",
    "import streamlit as st\n",
    "import requests\n",
    "from PIL import Image as PILImage\n",
    "import io\n",
    "from io import BytesIO\n",
    "import pandas as pd\n",
    "import base64"
   ]
  },
  {
   "cell_type": "code",
   "execution_count": 3,
   "metadata": {},
   "outputs": [],
   "source": [
    "df = pd.DataFrame()"
   ]
  },
  {
   "cell_type": "code",
   "execution_count": 4,
   "metadata": {},
   "outputs": [],
   "source": [
    "def validate_credentials(client_id, client_secret):\n",
    "\n",
    "    auth_url = \"https://accounts.spotify.com/api/token\"\n",
    "    response = requests.post(auth_url, {\n",
    "        \"grant_type\": \"client_credentials\",\n",
    "        \"client_id\": st.session_state[\"client_id\"],\n",
    "        \"client_secret\": st.session_state[\"client_secret\"],\n",
    "    })\n",
    "\n",
    "    print(\"response code:\", response.status_code)\n",
    "\n",
    "    return response.status_code == 200"
   ]
  },
  {
   "cell_type": "code",
   "execution_count": 3,
   "metadata": {},
   "outputs": [],
   "source": [
    "auth_manager = SpotifyClientCredentials(\n",
    "    client_id='ed8202519b564c468c54ee4b78e81661', \n",
    "    client_secret='3f37d164acdc4b498ef83f1ca572ad51')\n",
    "sp = spotipy.Spotify(auth_manager=auth_manager)"
   ]
  },
  {
   "cell_type": "code",
   "execution_count": 208,
   "metadata": {},
   "outputs": [],
   "source": [
    "def search_albums(sp, band: str, limit=20):\n",
    "\n",
    "    # Search for all data associated with search term and data type\n",
    "    results = sp.search(q=f'artist:{band}', type='album', limit=limit)\n",
    "    \n",
    "    # Empty session state after every rerun \n",
    "    # album_list = st.session_state[\"albums\"]\n",
    "    album_list = []\n",
    "    \n",
    "    # Expose data within the returned JSON\n",
    "    for item in results['albums']['items']:\n",
    "        artist = item['artists'][0]['name']\n",
    "        album = item['name']\n",
    "        release_date = item['release_date']\n",
    "\n",
    "        # Create dictionary to house result columns\n",
    "        album_list.append({\n",
    "            'Artist': artist,\n",
    "            'Album': album,\n",
    "            'Release Date': release_date\n",
    "        })\n",
    "\n",
    "    # Sort the album list by release_date in ascending order\n",
    "    album_list_sorted = sorted(album_list, key=lambda x: x['Release Date'])\n",
    "\n",
    "    # Optionally, sort in descending order by release_date\n",
    "    # album_list_sorted = sorted(album_list, key=lambda x: x['Release Date'], reverse=True)\n",
    "    \n",
    "    return album_list_sorted"
   ]
  },
  {
   "cell_type": "code",
   "execution_count": 210,
   "metadata": {},
   "outputs": [
    {
     "data": {
      "text/plain": [
       "[{'Artist': 'Justin Bieber',\n",
       "  'Album': 'My World',\n",
       "  'Release Date': '2009-01-01'},\n",
       " {'Artist': 'Justin Bieber',\n",
       "  'Album': 'My World 2.0',\n",
       "  'Release Date': '2010-01-01'},\n",
       " {'Artist': 'Justin Bieber',\n",
       "  'Album': 'Never Say Never - The Remixes',\n",
       "  'Release Date': '2011-01-01'},\n",
       " {'Artist': 'Justin Bieber',\n",
       "  'Album': 'Under The Mistletoe (Deluxe Edition)',\n",
       "  'Release Date': '2011-01-01'},\n",
       " {'Artist': 'Justin Bieber', 'Album': 'Believe', 'Release Date': '2012-01-01'},\n",
       " {'Artist': 'Justin Bieber',\n",
       "  'Album': 'Believe (Deluxe Edition)',\n",
       "  'Release Date': '2012-06-15'},\n",
       " {'Artist': 'Justin Bieber',\n",
       "  'Album': 'Journals',\n",
       "  'Release Date': '2014-05-13'},\n",
       " {'Artist': 'Justin Bieber',\n",
       "  'Album': 'Journals',\n",
       "  'Release Date': '2014-05-13'},\n",
       " {'Artist': 'Justin Bieber',\n",
       "  'Album': 'Purpose (Deluxe)',\n",
       "  'Release Date': '2015-11-13'},\n",
       " {'Artist': 'Justin Bieber',\n",
       "  'Album': 'Friends (with BloodPop®)',\n",
       "  'Release Date': '2017-08-17'},\n",
       " {'Artist': 'Justin Bieber',\n",
       "  'Album': 'Intentions',\n",
       "  'Release Date': '2020-02-07'},\n",
       " {'Artist': 'Justin Bieber', 'Album': 'Changes', 'Release Date': '2020-02-14'},\n",
       " {'Artist': 'Justin Bieber', 'Album': 'Holy', 'Release Date': '2020-09-18'},\n",
       " {'Artist': 'Justin Bieber',\n",
       "  'Album': 'Lonely (with benny blanco)',\n",
       "  'Release Date': '2020-10-16'},\n",
       " {'Artist': 'Justin Bieber', 'Album': 'Anyone', 'Release Date': '2021-01-01'},\n",
       " {'Artist': 'Justin Bieber', 'Album': 'Hold On', 'Release Date': '2021-03-05'},\n",
       " {'Artist': 'Justin Bieber', 'Album': 'Justice', 'Release Date': '2021-03-19'},\n",
       " {'Artist': 'Justin Bieber', 'Album': 'Justice', 'Release Date': '2021-03-19'},\n",
       " {'Artist': 'Justin Bieber',\n",
       "  'Album': 'Justice (Triple Chucks Deluxe)',\n",
       "  'Release Date': '2021-03-26'},\n",
       " {'Artist': 'Justin Bieber',\n",
       "  'Album': 'Justice (The Complete Edition)',\n",
       "  'Release Date': '2021-10-08'}]"
      ]
     },
     "execution_count": 210,
     "metadata": {},
     "output_type": "execute_result"
    }
   ],
   "source": [
    "alb = search_albums(sp, 'Justin Beiber')\n",
    "alb"
   ]
  },
  {
   "cell_type": "code",
   "execution_count": 218,
   "metadata": {},
   "outputs": [
    {
     "data": {
      "text/plain": [
       "19"
      ]
     },
     "execution_count": 218,
     "metadata": {},
     "output_type": "execute_result"
    }
   ],
   "source": [
    "results = sp.search(q='artist:Justin Beiber', type='album', limit=1)\n",
    "results['albums']['items'][0]['total_tracks']"
   ]
  },
  {
   "cell_type": "code",
   "execution_count": null,
   "metadata": {},
   "outputs": [],
   "source": []
  }
 ],
 "metadata": {
  "kernelspec": {
   "display_name": ".venv",
   "language": "python",
   "name": "python3"
  },
  "language_info": {
   "codemirror_mode": {
    "name": "ipython",
    "version": 3
   },
   "file_extension": ".py",
   "mimetype": "text/x-python",
   "name": "python",
   "nbconvert_exporter": "python",
   "pygments_lexer": "ipython3",
   "version": "3.10.6"
  }
 },
 "nbformat": 4,
 "nbformat_minor": 2
}
